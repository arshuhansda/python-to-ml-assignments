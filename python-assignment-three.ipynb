{
 "cells": [
  {
   "cell_type": "code",
   "execution_count": 1,
   "metadata": {},
   "outputs": [
    {
     "data": {
      "text/plain": [
       "2"
      ]
     },
     "execution_count": 1,
     "metadata": {},
     "output_type": "execute_result"
    }
   ],
   "source": [
    "1+1"
   ]
  },
  {
   "cell_type": "code",
   "execution_count": 2,
   "metadata": {},
   "outputs": [],
   "source": [
    "items = [1, 2, 3, 4, 5]\n",
    "squared = []\n",
    "for i in items:\n",
    "    squared.append(i**2)"
   ]
  },
  {
   "cell_type": "code",
   "execution_count": 3,
   "metadata": {},
   "outputs": [
    {
     "name": "stdout",
     "output_type": "stream",
     "text": [
      "[1, 4, 9, 16, 25]\n"
     ]
    }
   ],
   "source": [
    "print(squared)"
   ]
  },
  {
   "cell_type": "code",
   "execution_count": 10,
   "metadata": {},
   "outputs": [
    {
     "name": "stdout",
     "output_type": "stream",
     "text": [
      "[1, 4, 9, 16, 25]\n"
     ]
    }
   ],
   "source": [
    "squared_using_map = list(map(lambda x: x**2,items))\n",
    "print(squared_using_map)"
   ]
  },
  {
   "cell_type": "code",
   "execution_count": 12,
   "metadata": {},
   "outputs": [
    {
     "name": "stdout",
     "output_type": "stream",
     "text": [
      "[1, 2]\n",
      "[4, 4]\n",
      "[9, 6]\n",
      "[16, 8]\n",
      "[25, 10]\n"
     ]
    }
   ],
   "source": [
    "def multiply(x):\n",
    "    return x*x;\n",
    "\n",
    "def add(x):\n",
    "    return x+x;\n",
    "\n",
    "functions = [multiply, add]\n",
    "\n",
    "for i in items:\n",
    "    value = list(map(lambda x: x(i),functions))\n",
    "    print(value)"
   ]
  },
  {
   "cell_type": "code",
   "execution_count": 20,
   "metadata": {},
   "outputs": [
    {
     "name": "stdout",
     "output_type": "stream",
     "text": [
      "[-5, -4, -3, -2, -1, 0, 1, 2, 3, 4]\n"
     ]
    }
   ],
   "source": [
    "numbers = range(-5,5)\n",
    "print(list(filter(lambda x: x > -10,numbers)))"
   ]
  },
  {
   "cell_type": "code",
   "execution_count": 28,
   "metadata": {},
   "outputs": [],
   "source": [
    "from functools import reduce"
   ]
  },
  {
   "cell_type": "code",
   "execution_count": 30,
   "metadata": {},
   "outputs": [
    {
     "name": "stdout",
     "output_type": "stream",
     "text": [
      "362880\n"
     ]
    }
   ],
   "source": [
    "myList = range(1,10)\n",
    "\n",
    "print(reduce(lambda x,y:x*y,myList))"
   ]
  },
  {
   "cell_type": "code",
   "execution_count": 61,
   "metadata": {
    "scrolled": true
   },
   "outputs": [
    {
     "name": "stdout",
     "output_type": "stream",
     "text": [
      "45\n"
     ]
    }
   ],
   "source": [
    "print(reduce(lambda x,y:x+y,myList))"
   ]
  },
  {
   "cell_type": "code",
   "execution_count": 62,
   "metadata": {},
   "outputs": [
    {
     "name": "stdout",
     "output_type": "stream",
     "text": [
      "[1, 2, 3, 4, 5, 6, 7, 8, 9]\n"
     ]
    }
   ],
   "source": [
    "numbers_list = range(1,10)\n",
    "print(list(numbers_list))"
   ]
  },
  {
   "cell_type": "markdown",
   "metadata": {},
   "source": [
    "#### CREATE YOUR OWN REDUCE FUNCTION\n",
    "    "
   ]
  },
  {
   "cell_type": "code",
   "execution_count": 63,
   "metadata": {},
   "outputs": [
    {
     "name": "stdout",
     "output_type": "stream",
     "text": [
      "46\n"
     ]
    }
   ],
   "source": [
    "myAdd = lambda x,y:x+y\n",
    "mySub = lambda x,y:x-y\n",
    "myDiv = lambda x,y:x/y\n",
    "myMul = lambda x,y:x*y\n",
    "\n",
    "def myReduce(func,input_list):\n",
    "    #print('my func',func)\n",
    "    x = input_list[0]\n",
    "    #print('x',x)\n",
    "    for y in input_list:\n",
    "        #print('x',x,'y ',y)\n",
    "        x = func(x,y)\n",
    "    return x\n",
    "\n",
    "var = myAdd\n",
    "\n",
    "print(myReduce(var,numbers_list))"
   ]
  },
  {
   "cell_type": "code",
   "execution_count": 64,
   "metadata": {},
   "outputs": [
    {
     "name": "stdout",
     "output_type": "stream",
     "text": [
      "0.7777777777777778\n"
     ]
    }
   ],
   "source": [
    "def doIt(a, func, y, z):\n",
    "    result = z\n",
    "    result = func(a, y, result)\n",
    "    return result\n",
    "\n",
    "def dork1(arg1, arg2, arg3):\n",
    "    thing = (arg1 + arg2) / arg3\n",
    "    return thing\n",
    "\n",
    "def dork2(arg1, arg2, arg3):\n",
    "    thing = arg1 + (arg2 / arg3)\n",
    "    return thing\n",
    "\n",
    "var = dork1\n",
    "ned = doIt(3, var, 4, 9)\n",
    "print (ned)"
   ]
  },
  {
   "cell_type": "markdown",
   "metadata": {},
   "source": [
    "#### CREATE YOUR OWN FILTER FUNCTION"
   ]
  },
  {
   "cell_type": "code",
   "execution_count": 68,
   "metadata": {},
   "outputs": [
    {
     "name": "stdout",
     "output_type": "stream",
     "text": [
      "[]\n",
      "[6, 7, 8, 9]\n"
     ]
    }
   ],
   "source": [
    "greater = lambda x: x>10\n",
    "smaller = lambda x: x>5\n",
    "\n",
    "#print(greater(10))\n",
    "\n",
    "def myFilter(cond,input_list):\n",
    "    result = []\n",
    "    for y in input_list:\n",
    "        if(cond(y)):\n",
    "            result.append(y)\n",
    "    return result\n",
    "\n",
    "print(myFilter(greater,numbers_list))\n",
    "print(myFilter(smaller,numbers_list))\n",
    "    "
   ]
  },
  {
   "cell_type": "markdown",
   "metadata": {},
   "source": [
    "#### Implement List comprehensions to produce lists"
   ]
  },
  {
   "cell_type": "code",
   "execution_count": 70,
   "metadata": {},
   "outputs": [],
   "source": [
    "alp = ['x','y','z']"
   ]
  },
  {
   "cell_type": "code",
   "execution_count": 15,
   "metadata": {},
   "outputs": [],
   "source": [
    "num = [2,3,4]\n",
    "num2 = [2,3,4,5]"
   ]
  },
  {
   "cell_type": "code",
   "execution_count": 72,
   "metadata": {},
   "outputs": [],
   "source": [
    "newlist = [x for x in alp if x != 'x']"
   ]
  },
  {
   "cell_type": "code",
   "execution_count": 73,
   "metadata": {},
   "outputs": [
    {
     "name": "stdout",
     "output_type": "stream",
     "text": [
      "['y', 'z']\n"
     ]
    }
   ],
   "source": [
    "print(newlist)"
   ]
  },
  {
   "cell_type": "markdown",
   "metadata": {},
   "source": [
    "#### ['x', 'xx', 'xxx', 'xxxx', 'y', 'yy', 'yyy', 'yyyy', 'z', 'zz', 'zzz', 'zzzz']"
   ]
  },
  {
   "cell_type": "code",
   "execution_count": 94,
   "metadata": {},
   "outputs": [
    {
     "name": "stdout",
     "output_type": "stream",
     "text": [
      "['xx x x x', 'xx x x y', 'xx x x z', 'xx x y x', 'xx x y y', 'xx x y z', 'xx x z x', 'xx x z y', 'xx x z z', 'xx y x x', 'xx y x y', 'xx y x z', 'xx y y x', 'xx y y y', 'xx y y z', 'xx y z x', 'xx y z y', 'xx y z z', 'xx z x x', 'xx z x y', 'xx z x z', 'xx z y x', 'xx z y y', 'xx z y z', 'xx z z x', 'xx z z y', 'xx z z z', 'xx x x x', 'xx x x y', 'xx x x z', 'xx x y x', 'xx x y y', 'xx x y z', 'xx x z x', 'xx x z y', 'xx x z z', 'xx y x x', 'xx y x y', 'xx y x z', 'xx y y x', 'xx y y y', 'xx y y z', 'xx y z x', 'xx y z y', 'xx y z z', 'xx z x x', 'xx z x y', 'xx z x z', 'xx z y x', 'xx z y y', 'xx z y z', 'xx z z x', 'xx z z y', 'xx z z z', 'xx x x x', 'xx x x y', 'xx x x z', 'xx x y x', 'xx x y y', 'xx x y z', 'xx x z x', 'xx x z y', 'xx x z z', 'xx y x x', 'xx y x y', 'xx y x z', 'xx y y x', 'xx y y y', 'xx y y z', 'xx y z x', 'xx y z y', 'xx y z z', 'xx z x x', 'xx z x y', 'xx z x z', 'xx z y x', 'xx z y y', 'xx z y z', 'xx z z x', 'xx z z y', 'xx z z z', 'xx x x x', 'xx x x y', 'xx x x z', 'xx x y x', 'xx x y y', 'xx x y z', 'xx x z x', 'xx x z y', 'xx x z z', 'xx y x x', 'xx y x y', 'xx y x z', 'xx y y x', 'xx y y y', 'xx y y z', 'xx y z x', 'xx y z y', 'xx y z z', 'xx z x x', 'xx z x y', 'xx z x z', 'xx z y x', 'xx z y y', 'xx z y z', 'xx z z x', 'xx z z y', 'xx z z z', 'yy x x x', 'yy x x y', 'yy x x z', 'yy x y x', 'yy x y y', 'yy x y z', 'yy x z x', 'yy x z y', 'yy x z z', 'yy y x x', 'yy y x y', 'yy y x z', 'yy y y x', 'yy y y y', 'yy y y z', 'yy y z x', 'yy y z y', 'yy y z z', 'yy z x x', 'yy z x y', 'yy z x z', 'yy z y x', 'yy z y y', 'yy z y z', 'yy z z x', 'yy z z y', 'yy z z z', 'yy x x x', 'yy x x y', 'yy x x z', 'yy x y x', 'yy x y y', 'yy x y z', 'yy x z x', 'yy x z y', 'yy x z z', 'yy y x x', 'yy y x y', 'yy y x z', 'yy y y x', 'yy y y y', 'yy y y z', 'yy y z x', 'yy y z y', 'yy y z z', 'yy z x x', 'yy z x y', 'yy z x z', 'yy z y x', 'yy z y y', 'yy z y z', 'yy z z x', 'yy z z y', 'yy z z z', 'yy x x x', 'yy x x y', 'yy x x z', 'yy x y x', 'yy x y y', 'yy x y z', 'yy x z x', 'yy x z y', 'yy x z z', 'yy y x x', 'yy y x y', 'yy y x z', 'yy y y x', 'yy y y y', 'yy y y z', 'yy y z x', 'yy y z y', 'yy y z z', 'yy z x x', 'yy z x y', 'yy z x z', 'yy z y x', 'yy z y y', 'yy z y z', 'yy z z x', 'yy z z y', 'yy z z z', 'yy x x x', 'yy x x y', 'yy x x z', 'yy x y x', 'yy x y y', 'yy x y z', 'yy x z x', 'yy x z y', 'yy x z z', 'yy y x x', 'yy y x y', 'yy y x z', 'yy y y x', 'yy y y y', 'yy y y z', 'yy y z x', 'yy y z y', 'yy y z z', 'yy z x x', 'yy z x y', 'yy z x z', 'yy z y x', 'yy z y y', 'yy z y z', 'yy z z x', 'yy z z y', 'yy z z z', 'zz x x x', 'zz x x y', 'zz x x z', 'zz x y x', 'zz x y y', 'zz x y z', 'zz x z x', 'zz x z y', 'zz x z z', 'zz y x x', 'zz y x y', 'zz y x z', 'zz y y x', 'zz y y y', 'zz y y z', 'zz y z x', 'zz y z y', 'zz y z z', 'zz z x x', 'zz z x y', 'zz z x z', 'zz z y x', 'zz z y y', 'zz z y z', 'zz z z x', 'zz z z y', 'zz z z z', 'zz x x x', 'zz x x y', 'zz x x z', 'zz x y x', 'zz x y y', 'zz x y z', 'zz x z x', 'zz x z y', 'zz x z z', 'zz y x x', 'zz y x y', 'zz y x z', 'zz y y x', 'zz y y y', 'zz y y z', 'zz y z x', 'zz y z y', 'zz y z z', 'zz z x x', 'zz z x y', 'zz z x z', 'zz z y x', 'zz z y y', 'zz z y z', 'zz z z x', 'zz z z y', 'zz z z z', 'zz x x x', 'zz x x y', 'zz x x z', 'zz x y x', 'zz x y y', 'zz x y z', 'zz x z x', 'zz x z y', 'zz x z z', 'zz y x x', 'zz y x y', 'zz y x z', 'zz y y x', 'zz y y y', 'zz y y z', 'zz y z x', 'zz y z y', 'zz y z z', 'zz z x x', 'zz z x y', 'zz z x z', 'zz z y x', 'zz z y y', 'zz z y z', 'zz z z x', 'zz z z y', 'zz z z z', 'zz x x x', 'zz x x y', 'zz x x z', 'zz x y x', 'zz x y y', 'zz x y z', 'zz x z x', 'zz x z y', 'zz x z z', 'zz y x x', 'zz y x y', 'zz y x z', 'zz y y x', 'zz y y y', 'zz y y z', 'zz y z x', 'zz y z y', 'zz y z z', 'zz z x x', 'zz z x y', 'zz z x z', 'zz z y x', 'zz z y y', 'zz z y z', 'zz z z x', 'zz z z y', 'zz z z z']\n"
     ]
    }
   ],
   "source": [
    "l = len(alp)\n",
    "groups = [list(alp)] * l\n",
    "for i in groups:\n",
    "    list_one = [x+\" \"+y for x in list_one for y in i]\n",
    "#list_one = [alp+\"\"+e for e infor i in range(1,5)]\n",
    "print(list_one)"
   ]
  },
  {
   "cell_type": "code",
   "execution_count": 107,
   "metadata": {},
   "outputs": [
    {
     "name": "stdout",
     "output_type": "stream",
     "text": [
      "['xx', 'xy', 'xz', 'yx', 'yy', 'yz', 'zx', 'zy', 'zz']\n"
     ]
    }
   ],
   "source": [
    "l = len(alp)\n",
    "\n",
    "list_one = [x+alp[y] for x in alp for y in range(0,l)]\n",
    "print(list_one)"
   ]
  },
  {
   "cell_type": "markdown",
   "metadata": {},
   "source": [
    "#### Ans"
   ]
  },
  {
   "cell_type": "code",
   "execution_count": 112,
   "metadata": {},
   "outputs": [
    {
     "name": "stdout",
     "output_type": "stream",
     "text": [
      "['x', 'xx', 'xxx', 'xxxx', 'y', 'yy', 'yyy', 'yyyy', 'z', 'zz', 'zzz', 'zzzz']\n"
     ]
    }
   ],
   "source": [
    "l = len(alp)\n",
    "\n",
    "list_one = [x+(y*x) for x in alp for y in range(0,4)]\n",
    "print(list_one)"
   ]
  },
  {
   "cell_type": "markdown",
   "metadata": {},
   "source": [
    "#### ['x', 'y', 'z', 'xx', 'yy', 'zz', 'xxx', 'yyy', 'zzz', 'xxxx', 'yyyy', 'zzzz']"
   ]
  },
  {
   "cell_type": "code",
   "execution_count": 120,
   "metadata": {},
   "outputs": [
    {
     "name": "stdout",
     "output_type": "stream",
     "text": [
      "['x', 'y', 'z', 'xx', 'yy', 'zz', 'xxx', 'yyy', 'zzz', 'xxxx', 'yyyy', 'zzzz']\n"
     ]
    }
   ],
   "source": [
    "\n",
    "list_two = [x+(y*x) for x in alp for y in range(0,4)]\n",
    "\n",
    "list_two.sort() # sorts normally by alphabetical order\n",
    "list_two.sort(key=len, reverse=False) # sorts by ascending length\n",
    "\n",
    "print(list_two)"
   ]
  },
  {
   "cell_type": "markdown",
   "metadata": {},
   "source": [
    "#### [[2], [3], [4], [3], [4], [5], [4], [5], [6]] [[2, 3, 4, 5], [3, 4, 5, 6],[4, 5, 6, 7], [5, 6, 7, 8]]"
   ]
  },
  {
   "cell_type": "code",
   "execution_count": 123,
   "metadata": {},
   "outputs": [
    {
     "name": "stdout",
     "output_type": "stream",
     "text": [
      "['1', '11', '111', '1111', '2', '22', '222', '2222', '3', '33', '333', '3333', '4', '44', '444', '4444']\n"
     ]
    }
   ],
   "source": [
    "list_three = [str(x)+\"\"+(y*str(x)) for x in num for y in range(0,4)]\n",
    "\n",
    "list_three.sort() # sorts normally by alphabetical order\n",
    "\n",
    "print(list_three)"
   ]
  },
  {
   "cell_type": "code",
   "execution_count": 14,
   "metadata": {},
   "outputs": [
    {
     "name": "stdout",
     "output_type": "stream",
     "text": [
      "[[2], [3], [4], [3], [4], [5], [4], [5], [6]] [[2, 3, 4, 5], [3, 4, 5, 6], [4, 5, 6, 7], [5, 6, 7, 8]]\n"
     ]
    }
   ],
   "source": [
    "def get_list(input_list):\n",
    "    result = [[x+y] for x in input_list for y in range(0,3)]\n",
    "    return result\n",
    "\n",
    "def get_list2(input_list):\n",
    "    result = [[x+y for x in input_list] for y in range(0,4)]\n",
    "    return result\n",
    "\n",
    "print(get_list(num),get_list2(num2))"
   ]
  },
  {
   "cell_type": "markdown",
   "metadata": {},
   "source": [
    "#### [(1, 1), (2, 1), (3, 1), (1, 2), (2, 2), (3, 2), (1, 3), (2, 3), (3, 3)]"
   ]
  },
  {
   "cell_type": "code",
   "execution_count": 17,
   "metadata": {},
   "outputs": [
    {
     "name": "stdout",
     "output_type": "stream",
     "text": [
      "[(1, 1), (1, 2), (1, 3), (2, 1), (2, 2), (2, 3), (3, 1), (3, 2), (3, 3)]\n"
     ]
    }
   ],
   "source": [
    "def get_pairs(input_list):\n",
    "    result = [(x-1,y-1) for x in input_list for y in input_list]\n",
    "    return result\n",
    "\n",
    "print(get_pairs(num))"
   ]
  },
  {
   "cell_type": "code",
   "execution_count": null,
   "metadata": {},
   "outputs": [],
   "source": []
  }
 ],
 "metadata": {
  "kernelspec": {
   "display_name": "Python 3",
   "language": "python",
   "name": "python3"
  },
  "language_info": {
   "codemirror_mode": {
    "name": "ipython",
    "version": 3
   },
   "file_extension": ".py",
   "mimetype": "text/x-python",
   "name": "python",
   "nbconvert_exporter": "python",
   "pygments_lexer": "ipython3",
   "version": "3.8.5"
  }
 },
 "nbformat": 4,
 "nbformat_minor": 4
}
