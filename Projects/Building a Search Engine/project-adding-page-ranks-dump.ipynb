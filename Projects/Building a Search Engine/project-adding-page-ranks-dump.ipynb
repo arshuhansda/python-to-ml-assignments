{
 "cells": [
  {
   "cell_type": "code",
   "execution_count": 2,
   "metadata": {},
   "outputs": [
    {
     "name": "stdout",
     "output_type": "stream",
     "text": [
      "(4, 2.666666666666666, 2.222222222222222, 2, 'http://www.dr-chuck.com/dr-chuck/resume/index.htm')\n",
      "(2, 0.4999999999999999, 0.6666666666666665, 12, 'http://www.dr-chuck.com/dr-chuck/resume')\n",
      "(2, 0.8333333333333333, 0.9999999999999998, 10, 'http://www.dr-chuck.com/dr-chuck/resume/speaking.htm')\n",
      "(2, 0.9999999999999999, 1.083333333333333, 4, 'http://www.dr-chuck.com/dr-chuck/resume/bio.htm')\n",
      "(2, 1.5, 1.1666666666666663, 1, 'http://www.dr-chuck.com')\n",
      "(1, 0.6666666666666665, 0.5555555555555555, 30, 'http://www.dr-chuck.com/dr-chuck/resume/pictures')\n",
      "(1, 0.4999999999999999, 0.6666666666666665, 11, 'http://www.dr-chuck.com/dr-chuck/resume/pictures/index.htm')\n",
      "(1, 0.4999999999999999, 0.6666666666666665, 9, 'http://www.dr-chuck.com/dr-chuck/resume/leadership.htm')\n",
      "(1, 0.8333333333333333, 0.9722222222222221, 3, 'http://www.dr-chuck.com/sakai-book')\n",
      "9 rows.\n"
     ]
    }
   ],
   "source": [
    "import sqlite3\n",
    "\n",
    "conn = sqlite3.connect('spider-wiki.sqlite')\n",
    "cur = conn.cursor()\n",
    "\n",
    "cur.execute('''SELECT COUNT(from_id) AS inbound, old_rank, new_rank, id, url \n",
    "     FROM Pages JOIN Links ON Pages.id = Links.to_id\n",
    "     WHERE html IS NOT NULL\n",
    "     GROUP BY id ORDER BY inbound DESC''')\n",
    "\n",
    "count = 0\n",
    "for row in cur :\n",
    "    if count < 50 : print(row)\n",
    "    count = count + 1\n",
    "print(count, 'rows.')\n",
    "cur.close()\n"
   ]
  },
  {
   "cell_type": "code",
   "execution_count": null,
   "metadata": {},
   "outputs": [],
   "source": []
  }
 ],
 "metadata": {
  "kernelspec": {
   "display_name": "Python 3",
   "language": "python",
   "name": "python3"
  },
  "language_info": {
   "codemirror_mode": {
    "name": "ipython",
    "version": 3
   },
   "file_extension": ".py",
   "mimetype": "text/x-python",
   "name": "python",
   "nbconvert_exporter": "python",
   "pygments_lexer": "ipython3",
   "version": "3.8.5"
  }
 },
 "nbformat": 4,
 "nbformat_minor": 4
}
