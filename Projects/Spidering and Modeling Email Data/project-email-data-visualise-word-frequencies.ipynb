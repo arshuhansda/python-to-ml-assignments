{
 "cells": [
  {
   "cell_type": "code",
   "execution_count": 1,
   "metadata": {},
   "outputs": [
    {
     "name": "stdout",
     "output_type": "stream",
     "text": [
      "Range of counts: 43316 325\n",
      "Output written to gword.js\n",
      "Open gword.htm in a browser to see the vizualization\n"
     ]
    }
   ],
   "source": [
    "import sqlite3\n",
    "import time\n",
    "import zlib\n",
    "import string\n",
    "\n",
    "conn = sqlite3.connect('index.sqlite')\n",
    "cur = conn.cursor()\n",
    "\n",
    "cur.execute('SELECT id, subject FROM Subjects')\n",
    "subjects = dict()\n",
    "for message_row in cur :\n",
    "    subjects[message_row[0]] = message_row[1]\n",
    "\n",
    "# cur.execute('SELECT id, guid,sender_id,subject_id,headers,body FROM Messages')\n",
    "cur.execute('SELECT subject_id FROM Messages')\n",
    "counts = dict()\n",
    "for message_row in cur :\n",
    "    text = subjects[message_row[0]]\n",
    "    text = text.translate(str.maketrans('','',string.punctuation))\n",
    "    text = text.translate(str.maketrans('','','1234567890'))\n",
    "    text = text.strip()\n",
    "    text = text.lower()\n",
    "    words = text.split()\n",
    "    for word in words:\n",
    "        if len(word) < 4 : continue\n",
    "        counts[word] = counts.get(word,0) + 1\n",
    "\n",
    "x = sorted(counts, key=counts.get, reverse=True)\n",
    "highest = None\n",
    "lowest = None\n",
    "for k in x[:100]:\n",
    "    if highest is None or highest < counts[k] :\n",
    "        highest = counts[k]\n",
    "    if lowest is None or lowest > counts[k] :\n",
    "        lowest = counts[k]\n",
    "print('Range of counts:',highest,lowest)\n",
    "\n",
    "# Spread the font sizes across 20-100 based on the count\n",
    "bigsize = 80\n",
    "smallsize = 20\n",
    "\n",
    "fhand = open('gword.js','w')\n",
    "fhand.write(\"gword = [\")\n",
    "first = True\n",
    "for k in x[:100]:\n",
    "    if not first : fhand.write( \",\\n\")\n",
    "    first = False\n",
    "    size = counts[k]\n",
    "    size = (size - lowest) / float(highest - lowest)\n",
    "    size = int((size * bigsize) + smallsize)\n",
    "    fhand.write(\"{text: '\"+k+\"', size: \"+str(size)+\"}\")\n",
    "fhand.write( \"\\n];\\n\")\n",
    "fhand.close()\n",
    "\n",
    "print(\"Output written to gword.js\")\n",
    "print(\"Open gword.htm in a browser to see the vizualization\")\n"
   ]
  },
  {
   "cell_type": "code",
   "execution_count": null,
   "metadata": {},
   "outputs": [],
   "source": []
  }
 ],
 "metadata": {
  "kernelspec": {
   "display_name": "Python 3",
   "language": "python",
   "name": "python3"
  },
  "language_info": {
   "codemirror_mode": {
    "name": "ipython",
    "version": 3
   },
   "file_extension": ".py",
   "mimetype": "text/x-python",
   "name": "python",
   "nbconvert_exporter": "python",
   "pygments_lexer": "ipython3",
   "version": "3.8.5"
  }
 },
 "nbformat": 4,
 "nbformat_minor": 4
}
