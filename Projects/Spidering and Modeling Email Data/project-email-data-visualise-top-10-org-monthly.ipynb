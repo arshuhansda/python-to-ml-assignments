{
 "cells": [
  {
   "cell_type": "code",
   "execution_count": 1,
   "metadata": {},
   "outputs": [
    {
     "name": "stdout",
     "output_type": "stream",
     "text": [
      "Loaded messages= 59054 senders= 1769\n",
      "Top 10 Organizations\n",
      "['umich.edu', 'gmail.com', 'swinsborg.com', 'cam.ac.uk', 'uct.ac.za', 'indiana.edu', 'unicon.net', 'longsight.com', 'ox.ac.uk', 'berkeley.edu']\n",
      "Output written to gline.js\n",
      "Open gline.htm to visualize the data\n"
     ]
    }
   ],
   "source": [
    "import sqlite3\n",
    "import time\n",
    "import zlib\n",
    "\n",
    "conn = sqlite3.connect('index.sqlite')\n",
    "cur = conn.cursor()\n",
    "\n",
    "cur.execute('SELECT id, sender FROM Senders')\n",
    "senders = dict()\n",
    "for message_row in cur :\n",
    "    senders[message_row[0]] = message_row[1]\n",
    "\n",
    "cur.execute('SELECT id, guid,sender_id,subject_id,sent_at FROM Messages')\n",
    "messages = dict()\n",
    "for message_row in cur :\n",
    "    messages[message_row[0]] = (message_row[1],message_row[2],message_row[3],message_row[4])\n",
    "\n",
    "print(\"Loaded messages=\",len(messages),\"senders=\",len(senders))\n",
    "\n",
    "sendorgs = dict()\n",
    "for (message_id, message) in list(messages.items()):\n",
    "    sender = message[1]\n",
    "    pieces = senders[sender].split(\"@\")\n",
    "    if len(pieces) != 2 : continue\n",
    "    dns = pieces[1]\n",
    "    sendorgs[dns] = sendorgs.get(dns,0) + 1\n",
    "\n",
    "# pick the top schools\n",
    "orgs = sorted(sendorgs, key=sendorgs.get, reverse=True)\n",
    "orgs = orgs[:10]\n",
    "print(\"Top 10 Organizations\")\n",
    "print(orgs)\n",
    "\n",
    "counts = dict()\n",
    "months = list()\n",
    "# cur.execute('SELECT id, guid,sender_id,subject_id,sent_at FROM Messages')\n",
    "for (message_id, message) in list(messages.items()):\n",
    "    sender = message[1]\n",
    "    pieces = senders[sender].split(\"@\")\n",
    "    if len(pieces) != 2 : continue\n",
    "    dns = pieces[1]\n",
    "    if dns not in orgs : continue\n",
    "    month = message[3][:7]\n",
    "    if month not in months : months.append(month)\n",
    "    key = (month, dns)\n",
    "    counts[key] = counts.get(key,0) + 1\n",
    "\n",
    "months.sort()\n",
    "# print counts\n",
    "# print months\n",
    "\n",
    "fhand = open('gline.js','w')\n",
    "fhand.write(\"gline = [ ['Month'\")\n",
    "for org in orgs:\n",
    "    fhand.write(\",'\"+org+\"'\")\n",
    "fhand.write(\"]\")\n",
    "\n",
    "for month in months:\n",
    "    fhand.write(\",\\n['\"+month+\"'\")\n",
    "    for org in orgs:\n",
    "        key = (month, org)\n",
    "        val = counts.get(key,0)\n",
    "        fhand.write(\",\"+str(val))\n",
    "    fhand.write(\"]\");\n",
    "\n",
    "fhand.write(\"\\n];\\n\")\n",
    "fhand.close()\n",
    "\n",
    "print(\"Output written to gline.js\")\n",
    "print(\"Open gline.htm to visualize the data\")\n"
   ]
  },
  {
   "cell_type": "code",
   "execution_count": null,
   "metadata": {},
   "outputs": [],
   "source": []
  }
 ],
 "metadata": {
  "kernelspec": {
   "display_name": "Python 3",
   "language": "python",
   "name": "python3"
  },
  "language_info": {
   "codemirror_mode": {
    "name": "ipython",
    "version": 3
   },
   "file_extension": ".py",
   "mimetype": "text/x-python",
   "name": "python",
   "nbconvert_exporter": "python",
   "pygments_lexer": "ipython3",
   "version": "3.8.5"
  }
 },
 "nbformat": 4,
 "nbformat_minor": 4
}
