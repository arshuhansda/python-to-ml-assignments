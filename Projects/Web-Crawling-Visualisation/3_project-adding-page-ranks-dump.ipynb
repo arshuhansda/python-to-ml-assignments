{
 "cells": [
  {
   "cell_type": "code",
   "execution_count": 1,
   "metadata": {},
   "outputs": [
    {
     "name": "stdout",
     "output_type": "stream",
     "text": [
      "(100, 1.0, 25.569475780635962, 3, 'https://news.google.com/?tab=nn')\n",
      "(6, 1.0, 1.1541777262092618, 237, 'https://news.google.com/topics/articles/articles/CCAiC29vZFRtLUJDUTdJmAEB?hl=en-IN&gl=IN&ceid=IN%3Aen')\n",
      "(6, 1.0, 1.1541777262092618, 206, 'https://news.google.com/topics/articles/articles/CAIiEOcIjNvslAoO6_4tze8yjpgqGQgEKhAIACoHCAowzrL9CjDC7vQCMJmD1wU?hl=en-IN&gl=IN&ceid=IN%3Aen')\n",
      "(6, 1.0, 1.1541777262092618, 195, 'https://news.google.com/topics/articles/topics/CAAqJggKIiBDQkFTRWdvSUwyMHZNRGRqTVhZU0FtVnVHZ0pKVGlnQVAB?hl=en-IN&gl=IN&ceid=IN%3Aen')\n",
      "(6, 1.0, 1.1541777262092618, 194, 'https://news.google.com/topics/articles/topics/CAAqJggKIiBDQkFTRWdvSUwyMHZNRGx6TVdZU0FtVnVHZ0pKVGlnQVAB?hl=en-IN&gl=IN&ceid=IN%3Aen')\n",
      "(4, 1.0, 0.02738500392047406, 1916, 'https://news.google.com/topics/articles/topics/articles/articles/articles/publications/articles/?hl=en-IN&gl=IN&ceid=IN%3Aen')\n",
      "(3, 1.0, 0.28854443155231496, 2009, 'https://news.google.com/topics/articles/articles/articles/publications/CAAqBwgKMI_J_wowyK35Ag?hl=en-IN&gl=IN&ceid=IN%3Aen')\n",
      "(3, 1.0, 0.28854443155231496, 1996, 'https://news.google.com/topics/articles/articles/articles/topics/CAAqIQgKIhtDQkFTRGdvSUwyMHZNRE55YXpBU0FtVnVLQUFQAQ?hl=en-IN&gl=IN&ceid=IN%3Aen')\n",
      "(3, 1.0, 0.038071834718707905, 1905, 'https://news.google.com/topics/articles/topics/articles/articles/articles/publications/articles/CBMieGh0dHBzOi8vZmFjdGx5LmluL2ltYWdlLW9mLWNubi1yZXBvcnQtc3RhdGluZy12YWNjaW5lLWFkbWluaXN0ZXJlZC1jb3ZpZC0xOS1wYXRpZW50cy1lYXRpbmctb3RoZXJzLWlzLWRpZ2l0YWxseS1jcmVhdGVkL9IBAA?hl=en-IN&gl=IN&ceid=IN%3Aen')\n",
      "(3, 1.0, 1.498211471521638, 1378, 'https://news.google.com/articles/topics/topics/CAAqJAgKIh5DQkFTRUFvS0wyMHZNRFo2Y2pCbWJCSUNaVzRvQUFQAQ?hl=en-IN&gl=IN&ceid=IN%3Aen')\n",
      "(3, 1.0, 1.498211471521638, 1348, 'https://news.google.com/articles/topics/articles/CAIiEJe67OxPYOF2mtSOz3EWC8EqGQgEKhAIACoHCAowyo-HCzD-tIUDMKfilgY?hl=en-IN&gl=IN&ceid=IN%3Aen')\n",
      "(3, 1.0, 1.498211471521638, 1330, 'https://news.google.com/articles/topics/publications/CAAqBwgKMI_J_wowyK35Ag?hl=en-IN&gl=IN&ceid=IN%3Aen')\n",
      "(3, 1.0, 0.10820416183211784, 1227, 'https://news.google.com/topics/articles/articles/topics/articles/articles/CBMihQFodHRwczovL3d3dy5pbmRpYXRvZGF5LmluL2ZhY3QtY2hlY2svc3RvcnkvZmFjdC1jaGVjay1wbS1tb2RpLW5ldmVyLXNhaWQtdmFqcGF5ZWUtc3RhcnRlZC10aGUtZmlyc3QtbWV0cm8taW4taW5kaWEtMTc1NDYwNC0yMDIwLTEyLTMw0gEA?hl=en-IN&gl=IN&ceid=IN%3Aen')\n",
      "(3, 1.0, 0.10820416183211784, 1189, 'https://news.google.com/topics/articles/articles/topics/articles/articles/CAIiEGSkLSkkLtjjC9k25Bza41oqGQgEKhAIACoHCAowj8n_CjDIrfkCMJWZ2AY?hl=en-IN&gl=IN&ceid=IN%3Aen')\n",
      "(3, 1.0, 0.10820416183211784, 1177, 'https://news.google.com/topics/articles/articles/topics/articles/topics/CAAqIQgKIhtDQkFTRGdvSUwyMHZNR3QwTlRFU0FtVnVLQUFQAQ?hl=en-IN&gl=IN&ceid=IN%3Aen')\n",
      "(3, 1.0, 0.14427221577615712, 773, 'https://news.google.com/topics/articles/articles/topics/publications/CAAqBwgKMOaqjQsw-KufAw?hl=en-IN&gl=IN&ceid=IN%3Aen')\n",
      "(3, 1.0, 0.14427221577615712, 770, 'https://news.google.com/topics/articles/articles/topics/articles/CAIiEJpcxpTF6ROR7UH7-UthvKwqGQgEKhAIACoHCAow7pf_CjDdlfgCMP2F6gU?hl=en-IN&gl=IN&ceid=IN%3Aen')\n",
      "(3, 1.0, 0.14427221577615712, 767, 'https://news.google.com/topics/articles/articles/topics/publications/CAAqBwgKMIm_jQsw2sCfAw?hl=en-IN&gl=IN&ceid=IN%3Aen')\n",
      "(3, 1.0, 0.14427221577615712, 742, 'https://news.google.com/topics/articles/articles/topics/articles/CAIiEGSkLSkkLtjjC9k25Bza41oqGQgEKhAIACoHCAowj8n_CjDIrfkCMJWZ2AY?hl=en-IN&gl=IN&ceid=IN%3Aen')\n",
      "(3, 1.0, 0.14427221577615712, 740, 'https://news.google.com/topics/articles/articles/topics/articles/CAIiELw9zUULAS1jdMqf-yYiTvMqFwgEKg4IACoGCAoww7k_MMevCDC6rdgG?hl=en-IN&gl=IN&ceid=IN%3Aen')\n",
      "(3, 1.0, 0.28854443155231463, 415, 'https://news.google.com/topics/articles/articles/topics/CAAqIQgKIhtDQkFTRGdvSUwyMHZNR1JxWjNRU0FtVnVLQUFQAQ?hl=en-IN&gl=IN&ceid=IN%3Aen')\n",
      "(3, 1.0, 0.28854443155231463, 414, 'https://news.google.com/topics/articles/articles/topics/CAAqIggKIhxDQkFTRHdvSkwyMHZNRE5tT0hkMEVnSmxiaWdBUAE?hl=en-IN&gl=IN&ceid=IN%3Aen')\n",
      "(3, 1.0, 0.28854443155231463, 408, 'https://news.google.com/topics/articles/articles/articles/CBMiSWh0dHBzOi8vd3d3LmJvb21saXZlLmluL3dvcmxkL21pa2UtcGVuY2UtY292aWQtMTktdmFjY2luZS1mYWtlLW5ld3MtMTEzMznSAQA?hl=en-IN&gl=IN&ceid=IN%3Aen')\n",
      "(3, 1.0, 0.28854443155231463, 403, 'https://news.google.com/topics/articles/articles/articles/CAIiEOFVNzncgXr8D3AjlHGKWfEqGQgEKhAIACoHCAowzrL9CjDC7vQCMK2y1gU?hl=en-IN&gl=IN&ceid=IN%3Aen')\n",
      "(3, 1.0, 0.28854443155231463, 393, 'https://news.google.com/topics/articles/articles/articles/CCAiC0xSVU1BUHZLVVh3mAEB?hl=en-IN&gl=IN&ceid=IN%3Aen')\n",
      "(3, 1.0, 0.28854443155231463, 370, 'https://news.google.com/topics/articles/articles/publications/CAAqBggKMMO5PzDHrwg?hl=en-IN&gl=IN&ceid=IN%3Aen')\n",
      "(3, 1.0, 0.28854443155231463, 355, 'https://news.google.com/topics/articles/articles/topics/CAAqJggKIiBDQkFTRWdvSUwyMHZNRGRqTVhZU0FtVnVHZ0pKVGlnQVAB?hl=en-IN&gl=IN&ceid=IN%3Aen')\n",
      "(3, 1.0, 0.25648393915761286, 348, 'https://news.google.com/topics/articles/articles/?hl=en-IN&gl=IN&ceid=IN%3Aen')\n",
      "(3, 1.0, 7.990461181448727, 71, 'https://news.google.com/topics/CAAqIQgKIhtDQkFTRGdvSUwyMHZNRE53T0RVU0FtVnVLQUFQAQ?hl=en-IN&gl=IN&ceid=IN%3Aen')\n",
      "(3, 1.0, 7.990461181448727, 18, 'https://news.google.com/articles/CAIiENVz4o18nfi9UNy8o1vSlBEqGQgEKhAIACoHCAowj8n_CjDIrfkCMNWczwY?hl=en-IN&gl=IN&ceid=IN%3Aen')\n",
      "(3, 1.0, 7.990461181448727, 10, 'https://news.google.com/topics/CAAqJggKIiBDQkFTRWdvSUwyMHZNRGRqTVhZU0FtVnVHZ0pKVGlnQVAB?hl=en-IN&gl=IN&ceid=IN%3Aen')\n",
      "(3, 1.0, 6.3923689451589825, 2, 'https://news.google.com/?hl=en-IN&gl=IN&ceid=IN%3Aen')\n",
      "(2, 1.0, 0.10820416183211763, 4368, 'https://news.google.com/topics/articles/articles/topics/articles/articles/articles/CAIiEKoPfz7z1mM4aUVNTI3N_ykqFwgEKg4IACoGCAowxLQ_MNevCDCyrdsG?hl=en-IN&gl=IN&ceid=IN%3Aen')\n",
      "(2, 1.0, 0.028854443155231124, 2828, 'https://news.google.com/topics/articles/topics/articles/topics/topics/articles/articles/CAIiEGSkLSkkLtjjC9k25Bza41oqGQgEKhAIACoHCAowj8n_CjDIrfkCMJWZ2AY?hl=en-IN&gl=IN&ceid=IN%3Aen')\n",
      "(2, 1.0, 0.6214803141126786, 2798, 'https://news.google.com/topics/topics/articles/topics/CAAqIQgKIhtDQkFTRGdvSUwyMHZNRE53T0RVU0FtVnVLQUFQAQ?hl=en-IN&gl=IN&ceid=IN%3Aen')\n",
      "(2, 1.0, 0.028854443155230936, 2128, 'https://news.google.com/topics/articles/topics/articles/topics/topics/articles/CBMihQFodHRwczovL3d3dy5pbmRpYXRvZGF5LmluL2ZhY3QtY2hlY2svc3RvcnkvZmFjdC1jaGVjay1wbS1tb2RpLW5ldmVyLXNhaWQtdmFqcGF5ZWUtc3RhcnRlZC10aGUtZmlyc3QtbWV0cm8taW4taW5kaWEtMTc1NDYwNC0yMDIwLTEyLTMw0gEA?hl=en-IN&gl=IN&ceid=IN%3Aen')\n",
      "(2, 1.0, 0.028854443155230936, 2112, 'https://news.google.com/topics/articles/topics/articles/topics/topics/articles/CCAiC0xSVU1BUHZLVVh3mAEB?hl=en-IN&gl=IN&ceid=IN%3Aen')\n",
      "(2, 1.0, 0.028854443155230936, 2076, 'https://news.google.com/topics/articles/topics/articles/topics/topics/topics/CAAqJggKIiBDQkFTRWdvSUwyMHZNRFp1ZEdvU0FtVnVHZ0pKVGlnQVAB?hl=en-IN&gl=IN&ceid=IN%3Aen')\n",
      "(2, 1.0, 0.01703213658468471, 1988, 'https://news.google.com/topics/articles/topics/articles/articles/articles/publications/articles/topics/CAAqIggKIhxDQkFTRHdvSkwyMHZNREV6TldOM0VnSmxiaWdBUAE?hl=en-IN&gl=IN&ceid=IN%3Aen')\n",
      "(2, 1.0, 0.0400756154933765, 1744, 'https://news.google.com/topics/articles/topics/articles/articles/articles/articles/CBMihgFodHRwczovL3d3dy5pbmRpYXRvZGF5LmluL2ZhY3QtY2hlY2svc3RvcnkvaW5kaWFuLWdvdmVybm1lbnQtaGFzLW5vdC1hcHByb3ZlZC1waGFybWFjaXN0cy10by1ydW4tY2xpbmljcy1pbi1jb3VudHJ5LTE3NTUzMjAtMjAyMS0wMS0wMtIBAA?hl=en-IN&gl=IN&ceid=IN%3Aen')\n",
      "(2, 1.0, 0.0400756154933765, 1733, 'https://news.google.com/topics/articles/topics/articles/articles/articles/publications/CAAqBwgKMIm_jQsw2sCfAw?hl=en-IN&gl=IN&ceid=IN%3Aen')\n",
      "(2, 1.0, 0.0400756154933765, 1718, 'https://news.google.com/topics/articles/topics/articles/articles/articles/publications/CAAqBwgKMJ2Yggsw2O_-Ag?hl=en-IN&gl=IN&ceid=IN%3Aen')\n",
      "(2, 1.0, 0.09618147718410461, 1666, 'https://news.google.com/topics/articles/topics/articles/articles/articles/CAIiEOFVNzncgXr8D3AjlHGKWfEqGQgEKhAIACoHCAowzrL9CjDC7vQCMK2y1gU?hl=en-IN&gl=IN&ceid=IN%3Aen')\n",
      "(2, 1.0, 0.09618147718410461, 1645, 'https://news.google.com/topics/articles/topics/articles/articles/articles/CAIiEJe67OxPYOF2mtSOz3EWC8EqGQgEKhAIACoHCAowyo-HCzD-tIUDMKfilgY?hl=en-IN&gl=IN&ceid=IN%3Aen')\n",
      "(2, 1.0, 0.09618147718410461, 1614, 'https://news.google.com/topics/articles/topics/articles/articles/topics/CAAqIQgKIhtDQkFTRGdvSUwyMHZNRE55YXpBU0FtVnVLQUFQAQ?hl=en-IN&gl=IN&ceid=IN%3Aen')\n",
      "(2, 1.0, 0.07694518174728354, 933, 'https://news.google.com/topics/articles/topics/articles/topics/topics/CAAqJAgKIh5DQkFTRUFvS0wyMHZNRFo2Y2pCbWJCSUNaVzRvQUFQAQ?hl=en-IN&gl=IN&ceid=IN%3Aen')\n",
      "(2, 1.0, 0.07694518174728354, 928, 'https://news.google.com/topics/articles/topics/articles/topics/articles/CBMihgFodHRwczovL3d3dy5pbmRpYXRvZGF5LmluL2ZhY3QtY2hlY2svc3RvcnkvaW5kaWFuLWdvdmVybm1lbnQtaGFzLW5vdC1hcHByb3ZlZC1waGFybWFjaXN0cy10by1ydW4tY2xpbmljcy1pbi1jb3VudHJ5LTE3NTUzMjAtMjAyMS0wMS0wMtIBAA?hl=en-IN&gl=IN&ceid=IN%3Aen')\n",
      "(2, 1.0, 0.07694518174728354, 883, 'https://news.google.com/topics/articles/topics/articles/topics/publications/CAAqBwgKMM6y_Qowwu70Ag?hl=en-IN&gl=IN&ceid=IN%3Aen')\n",
      "(2, 1.0, 0.6214803141126791, 856, 'https://news.google.com/topics/publications/articles/CBMieGh0dHBzOi8vZmFjdGx5LmluL2ltYWdlLW9mLWNubi1yZXBvcnQtc3RhdGluZy12YWNjaW5lLWFkbWluaXN0ZXJlZC1jb3ZpZC0xOS1wYXRpZW50cy1lYXRpbmctb3RoZXJzLWlzLWRpZ2l0YWxseS1jcmVhdGVkL9IBAA?hl=en-IN&gl=IN&ceid=IN%3Aen')\n",
      "(2, 1.0, 0.6214803141126791, 840, 'https://news.google.com/topics/publications/articles/CAIiECMRZQQavoW5Svk37cX6OWUqGQgEKhAIACoHCAowib-NCzDawJ8DMIa_pwY?hl=en-IN&gl=IN&ceid=IN%3Aen')\n",
      "99 rows.\n"
     ]
    }
   ],
   "source": [
    "import sqlite3\n",
    "\n",
    "conn = sqlite3.connect('spider-new-url.sqlite')\n",
    "cur = conn.cursor()\n",
    "\n",
    "cur.execute('''SELECT COUNT(from_id) AS inbound, old_rank, new_rank, id, url \n",
    "     FROM Pages JOIN Links ON Pages.id = Links.to_id\n",
    "     WHERE html IS NOT NULL\n",
    "     GROUP BY id ORDER BY inbound DESC''')\n",
    "\n",
    "count = 0\n",
    "for row in cur :\n",
    "    if count < 50 : print(row)\n",
    "    count = count + 1\n",
    "print(count, 'rows.')\n",
    "cur.close()\n"
   ]
  },
  {
   "cell_type": "code",
   "execution_count": null,
   "metadata": {},
   "outputs": [],
   "source": []
  }
 ],
 "metadata": {
  "kernelspec": {
   "display_name": "Python 3",
   "language": "python",
   "name": "python3"
  },
  "language_info": {
   "codemirror_mode": {
    "name": "ipython",
    "version": 3
   },
   "file_extension": ".py",
   "mimetype": "text/x-python",
   "name": "python",
   "nbconvert_exporter": "python",
   "pygments_lexer": "ipython3",
   "version": "3.8.5"
  }
 },
 "nbformat": 4,
 "nbformat_minor": 4
}
