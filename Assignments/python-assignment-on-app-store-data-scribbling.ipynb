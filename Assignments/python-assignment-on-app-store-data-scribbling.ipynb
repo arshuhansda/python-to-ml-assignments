{
 "cells": [
  {
   "cell_type": "markdown",
   "metadata": {},
   "source": [
    "## Profitable App Profiles for the App Store and Google Play Markets\n",
    "\n",
    "Our aim in this project is to find mobile app profiles that are profitable for the App Store and Google Play markets. We're working as data analysts for a company that builds Android and iOS mobile apps, and our job is to enable our team of developers to make data-driven decisions with respect to the kind of apps they build.\n",
    "\n",
    "At our company, we only build apps that are free to download and install, and our main source of revenue consists of in-app ads. This means that our revenue for any given app is mostly influenced by the number of users that use our app. Our goal for this project is to analyze data to help our developers understand what kinds of apps are likely to attract more users."
   ]
  },
  {
   "cell_type": "markdown",
   "metadata": {},
   "source": [
    "### Opening and Exploring the Data\n",
    "\n",
    "As of September 2018, there were approximately 2 million iOS apps available on the App Store, and 2.1 million Android apps on Google Play.\n",
    "\n",
    "Collecting data for over four million apps requires a significant amount of time and money, so we'll try to analyze a sample of data instead. To avoid spending resources with collecting new data ourselves, we should first try to see whether we can find any relevant existing data at no cost. Luckily, these are two data sets that seem suitable for our purpose:\n",
    "\n",
    "- [A data set](https://www.kaggle.com/lava18/google-play-store-apps) containing data about approximately ten thousand Android apps from Google Play. You can download the data set directly from [this link](https://dq-content.s3.amazonaws.com/350/googleplaystore.csv).\n",
    "- [A data set](https://www.kaggle.com/ramamet4/app-store-apple-data-set-10k-apps) containing data about approximately seven thousand iOS apps from the App Store. You can download the data set directly from [this link](https://dq-content.s3.amazonaws.com/350/AppleStore.csv).\n",
    "\n",
    "Let's start by opening the two data sets and then continue with exploring the data."
   ]
  },
  {
   "cell_type": "code",
   "execution_count": 11,
   "metadata": {},
   "outputs": [],
   "source": [
    "app_store_file_name = \"AppleStore.csv\""
   ]
  },
  {
   "cell_type": "code",
   "execution_count": 12,
   "metadata": {},
   "outputs": [],
   "source": [
    "play_store_file_name = \"googleplaystore.csv\""
   ]
  },
  {
   "cell_type": "code",
   "execution_count": 13,
   "metadata": {},
   "outputs": [],
   "source": [
    "app_store_data = open(app_store_file_name)\n",
    "play_store_data = open(play_store_file_name)"
   ]
  },
  {
   "cell_type": "code",
   "execution_count": 14,
   "metadata": {},
   "outputs": [],
   "source": [
    "#Without using csv library\n",
    "\n",
    "#for lines in app_store_data:\n",
    "    #print(lines.split(\",\"))\n"
   ]
  },
  {
   "cell_type": "code",
   "execution_count": 15,
   "metadata": {},
   "outputs": [],
   "source": [
    "import csv as rd"
   ]
  },
  {
   "cell_type": "code",
   "execution_count": 16,
   "metadata": {},
   "outputs": [],
   "source": [
    "app_store_d = open(app_store_file_name,'r')\n",
    "adata = rd.reader(app_store_d,delimiter=',')\n",
    "\n",
    "app_store_data = list(adata)"
   ]
  },
  {
   "cell_type": "code",
   "execution_count": 17,
   "metadata": {},
   "outputs": [],
   "source": [
    "def data_info(x):\n",
    "    print(\"Rows =\", len(x))\n",
    "    print(\"Columns =\",len(x[0]))    \n"
   ]
  },
  {
   "cell_type": "code",
   "execution_count": null,
   "metadata": {},
   "outputs": [],
   "source": []
  },
  {
   "cell_type": "code",
   "execution_count": 18,
   "metadata": {},
   "outputs": [],
   "source": [
    "#print(app_store_data)"
   ]
  },
  {
   "cell_type": "code",
   "execution_count": 20,
   "metadata": {},
   "outputs": [
    {
     "name": "stdout",
     "output_type": "stream",
     "text": [
      "['id', 'track_name', 'size_bytes', 'currency', 'price', 'rating_count_tot', 'rating_count_ver', 'user_rating', 'user_rating_ver', 'ver', 'cont_rating', 'prime_genre', 'sup_devices.num', 'ipadSc_urls.num', 'lang.num', 'vpp_lic']\n"
     ]
    }
   ],
   "source": [
    "print(app_store_data[0])"
   ]
  },
  {
   "cell_type": "code",
   "execution_count": 23,
   "metadata": {},
   "outputs": [
    {
     "name": "stdout",
     "output_type": "stream",
     "text": [
      "16\n"
     ]
    }
   ],
   "source": [
    "print(len(app_store_data[0]))"
   ]
  },
  {
   "cell_type": "code",
   "execution_count": 22,
   "metadata": {},
   "outputs": [
    {
     "name": "stdout",
     "output_type": "stream",
     "text": [
      "7198\n"
     ]
    }
   ],
   "source": [
    "print(len(app_store_data))"
   ]
  },
  {
   "cell_type": "code",
   "execution_count": null,
   "metadata": {},
   "outputs": [],
   "source": []
  },
  {
   "cell_type": "code",
   "execution_count": 24,
   "metadata": {},
   "outputs": [],
   "source": [
    "play_store_d = open(play_store_file_name,'r')\n",
    "pdata = rd.reader(play_store_d,delimiter=',')\n",
    "\n",
    "play_store_data = list(pdata)"
   ]
  },
  {
   "cell_type": "code",
   "execution_count": 25,
   "metadata": {},
   "outputs": [],
   "source": [
    "#print(play_store_data)"
   ]
  },
  {
   "cell_type": "code",
   "execution_count": 26,
   "metadata": {},
   "outputs": [
    {
     "data": {
      "text/plain": [
       "['App',\n",
       " 'Category',\n",
       " 'Rating',\n",
       " 'Reviews',\n",
       " 'Size',\n",
       " 'Installs',\n",
       " 'Type',\n",
       " 'Price',\n",
       " 'Content Rating',\n",
       " 'Genres',\n",
       " 'Last Updated',\n",
       " 'Current Ver',\n",
       " 'Android Ver']"
      ]
     },
     "execution_count": 26,
     "metadata": {},
     "output_type": "execute_result"
    }
   ],
   "source": [
    "play_store_data[0]"
   ]
  },
  {
   "cell_type": "code",
   "execution_count": 27,
   "metadata": {},
   "outputs": [
    {
     "data": {
      "text/plain": [
       "['App',\n",
       " 'Category',\n",
       " 'Rating',\n",
       " 'Reviews',\n",
       " 'Size',\n",
       " 'Installs',\n",
       " 'Type',\n",
       " 'Price',\n",
       " 'Content Rating',\n",
       " 'Genres',\n",
       " 'Last Updated',\n",
       " 'Current Ver',\n",
       " 'Android Ver']"
      ]
     },
     "execution_count": 27,
     "metadata": {},
     "output_type": "execute_result"
    }
   ],
   "source": [
    "play_store_headers = play_store_data[0]\n",
    "play_store_data = play_store_data[1:]\n",
    "\n",
    "play_store_headers"
   ]
  },
  {
   "cell_type": "code",
   "execution_count": 28,
   "metadata": {},
   "outputs": [
    {
     "name": "stdout",
     "output_type": "stream",
     "text": [
      "13\n"
     ]
    }
   ],
   "source": [
    "len(play_store_data)\n",
    "col_in_play_store = len(play_store_data[0])\n",
    "print(col_in_play_store)"
   ]
  },
  {
   "cell_type": "markdown",
   "metadata": {},
   "source": [
    "### Wrong entry\n",
    "We have a wrong entry in csv for playstore."
   ]
  },
  {
   "cell_type": "code",
   "execution_count": 29,
   "metadata": {},
   "outputs": [
    {
     "name": "stdout",
     "output_type": "stream",
     "text": [
      "['Life Made WI-Fi Touchscreen Photo Frame', '1.9', '19', '3.0M', '1,000+', 'Free', '0', 'Everyone', '', 'February 11, 2018', '1.0.19', '4.0 and up']\n",
      "[10472]\n"
     ]
    }
   ],
   "source": [
    "wrong_entries_indexes = []\n",
    "row_index = 0\n",
    "for row in play_store_data:\n",
    "    if(len(row) != col_in_play_store):\n",
    "        wrong_entries_indexes.append(row_index)\n",
    "        print(row)\n",
    "    row_index = row_index + 1\n",
    "\n",
    "print(wrong_entries_indexes)\n",
    "\n",
    "##will create a function to check if the data is not consistent"
   ]
  },
  {
   "cell_type": "code",
   "execution_count": 30,
   "metadata": {},
   "outputs": [
    {
     "name": "stdout",
     "output_type": "stream",
     "text": [
      "10841\n"
     ]
    }
   ],
   "source": [
    "#for i in wrong_entries_indexes:\n",
    "    #play_store_data.pop(i)\n",
    "\n",
    "print(len(play_store_data))"
   ]
  },
  {
   "cell_type": "code",
   "execution_count": 31,
   "metadata": {},
   "outputs": [
    {
     "name": "stdout",
     "output_type": "stream",
     "text": [
      "Rows = 10841\n",
      "Columns = 13\n"
     ]
    }
   ],
   "source": [
    "data_info(play_store_data)"
   ]
  },
  {
   "cell_type": "code",
   "execution_count": 32,
   "metadata": {},
   "outputs": [],
   "source": [
    "def get_wrong_entries(x):\n",
    "    wrong_indexes = []\n",
    "    col = len(x[0])\n",
    "    row_index = 0\n",
    "    for row in x:\n",
    "        if(len(row) != col):\n",
    "            wrong_indexes.append(row_index)\n",
    "            #print(row)\n",
    "        row_index = row_index + 1\n",
    "    \n",
    "    return wrong_indexes"
   ]
  },
  {
   "cell_type": "code",
   "execution_count": 33,
   "metadata": {},
   "outputs": [
    {
     "name": "stdout",
     "output_type": "stream",
     "text": [
      "[10472]\n"
     ]
    }
   ],
   "source": [
    "print(get_wrong_entries(play_store_data))"
   ]
  },
  {
   "cell_type": "code",
   "execution_count": 34,
   "metadata": {},
   "outputs": [],
   "source": [
    "def remove_wrong_entries(x):\n",
    "    wrong_indexes = get_wrong_entries(x)\n",
    "    if(len(wrong_indexes) > 0):\n",
    "        \n",
    "        wrong_indexes.reverse()\n",
    "        for i in wrong_indexes:\n",
    "            print(\"index=\",i)\n",
    "            x.pop(i)\n",
    "    else:\n",
    "        print(\"No wrong entries\")\n",
    "    \n",
    "    return x\n",
    "            "
   ]
  },
  {
   "cell_type": "code",
   "execution_count": 35,
   "metadata": {},
   "outputs": [
    {
     "name": "stdout",
     "output_type": "stream",
     "text": [
      "index= 10472\n",
      "Rows = 10840\n",
      "Columns = 13\n"
     ]
    }
   ],
   "source": [
    "data_info(remove_wrong_entries(play_store_data))"
   ]
  },
  {
   "cell_type": "code",
   "execution_count": 36,
   "metadata": {},
   "outputs": [
    {
     "name": "stdout",
     "output_type": "stream",
     "text": [
      "No wrong entries\n",
      "Rows = 7198\n",
      "Columns = 16\n"
     ]
    }
   ],
   "source": [
    "data_info(remove_wrong_entries(app_store_data))"
   ]
  },
  {
   "cell_type": "code",
   "execution_count": 37,
   "metadata": {},
   "outputs": [],
   "source": [
    "def get_duplicates(x,limit):\n",
    "    check_for_duplicates = False\n",
    "    count_of_duplicates = 0\n",
    "    for row in x:\n",
    "        if(x.count(row) > 1 and count_of_duplicates < limit):\n",
    "            print(\"No. of duplicates= \",x.count(row), \" Duplicate row= \",row)\n",
    "            check_for_duplicates = True\n",
    "            count_of_duplicates = count_of_duplicates + 1\n",
    "    return check_for_duplicates"
   ]
  },
  {
   "cell_type": "code",
   "execution_count": 38,
   "metadata": {},
   "outputs": [
    {
     "name": "stdout",
     "output_type": "stream",
     "text": [
      "No. of duplicates=  2  Duplicate row=  ['Ebook Reader', 'BOOKS_AND_REFERENCE', '4.1', '85842', '37M', '5,000,000+', 'Free', '0', 'Everyone', 'Books & Reference', 'June 25, 2018', '5.0.6', '4.0 and up']\n",
      "No. of duplicates=  2  Duplicate row=  ['Docs To Go™ Free Office Suite', 'BUSINESS', '4.1', '217730', 'Varies with device', '50,000,000+', 'Free', '0', 'Everyone', 'Business', 'April 2, 2018', 'Varies with device', 'Varies with device']\n",
      "No. of duplicates=  3  Duplicate row=  ['Google My Business', 'BUSINESS', '4.4', '70991', 'Varies with device', '5,000,000+', 'Free', '0', 'Everyone', 'Business', 'July 24, 2018', '2.19.0.204537701', '4.4 and up']\n",
      "No. of duplicates=  3  Duplicate row=  ['Box', 'BUSINESS', '4.2', '159872', 'Varies with device', '10,000,000+', 'Free', '0', 'Everyone', 'Business', 'July 31, 2018', 'Varies with device', 'Varies with device']\n",
      "No. of duplicates=  2  Duplicate row=  ['ZOOM Cloud Meetings', 'BUSINESS', '4.4', '31614', '37M', '10,000,000+', 'Free', '0', 'Everyone', 'Business', 'July 20, 2018', '4.1.28165.0716', '4.0 and up']\n"
     ]
    },
    {
     "data": {
      "text/plain": [
       "True"
      ]
     },
     "execution_count": 38,
     "metadata": {},
     "output_type": "execute_result"
    }
   ],
   "source": [
    "get_duplicates(play_store_data,5)"
   ]
  },
  {
   "cell_type": "code",
   "execution_count": 39,
   "metadata": {},
   "outputs": [
    {
     "data": {
      "text/plain": [
       "False"
      ]
     },
     "execution_count": 39,
     "metadata": {},
     "output_type": "execute_result"
    }
   ],
   "source": [
    "get_duplicates(app_store_data,5)"
   ]
  },
  {
   "cell_type": "code",
   "execution_count": 40,
   "metadata": {},
   "outputs": [],
   "source": [
    "def get_set_of_rows(x):\n",
    "    result_set = set(tuple(row) for row in x)\n",
    "    return list(result_set)\n"
   ]
  },
  {
   "cell_type": "code",
   "execution_count": 41,
   "metadata": {},
   "outputs": [
    {
     "name": "stdout",
     "output_type": "stream",
     "text": [
      "10357\n"
     ]
    }
   ],
   "source": [
    "print(len(get_set_of_rows(play_store_data)))"
   ]
  },
  {
   "cell_type": "code",
   "execution_count": 42,
   "metadata": {},
   "outputs": [
    {
     "name": "stdout",
     "output_type": "stream",
     "text": [
      "Number of duplicates =  483\n"
     ]
    }
   ],
   "source": [
    "print(\"Number of duplicates = \", len(play_store_data)-len(get_set_of_rows(play_store_data)) )"
   ]
  },
  {
   "cell_type": "code",
   "execution_count": 43,
   "metadata": {},
   "outputs": [
    {
     "name": "stdout",
     "output_type": "stream",
     "text": [
      "Rows = 10357\n",
      "Columns = 13\n"
     ]
    }
   ],
   "source": [
    "#update play_store_data with headers\n",
    "\n",
    "play_store_data = get_set_of_rows(play_store_data)\n",
    "data_info(play_store_data)"
   ]
  },
  {
   "cell_type": "code",
   "execution_count": 44,
   "metadata": {},
   "outputs": [
    {
     "data": {
      "text/plain": [
       "['App',\n",
       " 'Category',\n",
       " 'Rating',\n",
       " 'Reviews',\n",
       " 'Size',\n",
       " 'Installs',\n",
       " 'Type',\n",
       " 'Price',\n",
       " 'Content Rating',\n",
       " 'Genres',\n",
       " 'Last Updated',\n",
       " 'Current Ver',\n",
       " 'Android Ver']"
      ]
     },
     "execution_count": 44,
     "metadata": {},
     "output_type": "execute_result"
    }
   ],
   "source": [
    "play_store_headers"
   ]
  },
  {
   "cell_type": "code",
   "execution_count": 45,
   "metadata": {},
   "outputs": [],
   "source": [
    "\n",
    "def get_dict_of_columns(x,headers):\n",
    "    store_dict = dict()\n",
    "    count = 0\n",
    "    for head in headers:\n",
    "        for row in x:\n",
    "            store_dict.setdefault(head,[]).append(row[count])\n",
    "        count = count + 1\n",
    "    return store_dict"
   ]
  },
  {
   "cell_type": "code",
   "execution_count": 46,
   "metadata": {},
   "outputs": [],
   "source": [
    "play_store_dict = get_dict_of_columns(play_store_data,play_store_headers)\n",
    "#play_store_dict"
   ]
  },
  {
   "cell_type": "code",
   "execution_count": 47,
   "metadata": {
    "scrolled": true
   },
   "outputs": [],
   "source": [
    "##Removing duplicates according to only one column\n"
   ]
  },
  {
   "cell_type": "code",
   "execution_count": 48,
   "metadata": {},
   "outputs": [
    {
     "name": "stdout",
     "output_type": "stream",
     "text": [
      "Column=  App\n",
      "No. of duplicates=  2  Duplicate row=  Moovit: Bus Time & Train Time Live Info\n",
      "No. of duplicates=  5  Duplicate row=  Angry Birds Classic\n",
      "No. of duplicates=  2  Duplicate row=  BZWBK24 mobile\n",
      "No. of duplicates=  2  Duplicate row=  Manga AZ - Manga Comic Reader\n",
      "No. of duplicates=  2  Duplicate row=  Video Downloader\n",
      "No. of duplicates=  2  Duplicate row=  YouCam Perfect - Selfie Photo Editor\n",
      "No. of duplicates=  3  Duplicate row=  Magic Tiles 3\n",
      "No. of duplicates=  2  Duplicate row=  SayHi Chat, Meet New People\n",
      "No. of duplicates=  2  Duplicate row=  Pinterest\n",
      "No. of duplicates=  2  Duplicate row=  textPlus: Free Text & Calls\n",
      "Column=  Category\n",
      "No. of duplicates=  1943  Duplicate row=  FAMILY\n",
      "No. of duplicates=  137  Duplicate row=  MAPS_AND_NAVIGATION\n",
      "No. of duplicates=  1121  Duplicate row=  GAME\n",
      "No. of duplicates=  1943  Duplicate row=  FAMILY\n",
      "No. of duplicates=  373  Duplicate row=  LIFESTYLE\n",
      "No. of duplicates=  1943  Duplicate row=  FAMILY\n",
      "No. of duplicates=  1121  Duplicate row=  GAME\n",
      "No. of duplicates=  1121  Duplicate row=  GAME\n",
      "No. of duplicates=  843  Duplicate row=  TOOLS\n",
      "No. of duplicates=  65  Duplicate row=  ART_AND_DESIGN\n",
      "Column=  Rating\n",
      "No. of duplicates=  87  Duplicate row=  4.9\n",
      "No. of duplicates=  1032  Duplicate row=  4.4\n",
      "No. of duplicates=  1032  Duplicate row=  4.4\n",
      "No. of duplicates=  657  Duplicate row=  4.1\n",
      "No. of duplicates=  45  Duplicate row=  2.9\n",
      "No. of duplicates=  231  Duplicate row=  3.7\n",
      "No. of duplicates=  888  Duplicate row=  4.2\n",
      "No. of duplicates=  1016  Duplicate row=  4.3\n",
      "No. of duplicates=  1465  Duplicate row=  NaN\n",
      "No. of duplicates=  1465  Duplicate row=  NaN\n",
      "Column=  Reviews\n",
      "No. of duplicates=  22  Duplicate row=  41\n",
      "No. of duplicates=  3  Duplicate row=  681\n",
      "No. of duplicates=  593  Duplicate row=  0\n",
      "No. of duplicates=  593  Duplicate row=  0\n",
      "No. of duplicates=  5  Duplicate row=  513\n",
      "No. of duplicates=  593  Duplicate row=  0\n",
      "No. of duplicates=  12  Duplicate row=  47\n",
      "No. of duplicates=  5  Duplicate row=  92\n",
      "No. of duplicates=  272  Duplicate row=  1\n",
      "No. of duplicates=  30  Duplicate row=  25\n",
      "Column=  Size\n",
      "No. of duplicates=  182  Duplicate row=  14M\n",
      "No. of duplicates=  1526  Duplicate row=  Varies with device\n",
      "No. of duplicates=  19  Duplicate row=  97M\n",
      "No. of duplicates=  68  Duplicate row=  35M\n",
      "No. of duplicates=  67  Duplicate row=  2.9M\n",
      "No. of duplicates=  28  Duplicate row=  8.2M\n",
      "No. of duplicates=  94  Duplicate row=  27M\n",
      "No. of duplicates=  44  Duplicate row=  41M\n",
      "No. of duplicates=  186  Duplicate row=  12M\n",
      "No. of duplicates=  41  Duplicate row=  1.2M\n",
      "Column=  Installs\n",
      "No. of duplicates=  1488  Duplicate row=  1,000,000+\n",
      "No. of duplicates=  1132  Duplicate row=  10,000,000+\n",
      "No. of duplicates=  369  Duplicate row=  100,000,000+\n",
      "No. of duplicates=  272  Duplicate row=  50,000,000+\n",
      "No. of duplicates=  890  Duplicate row=  1,000+\n",
      "No. of duplicates=  1033  Duplicate row=  10,000+\n",
      "No. of duplicates=  1129  Duplicate row=  100,000+\n",
      "No. of duplicates=  369  Duplicate row=  100,000,000+\n",
      "No. of duplicates=  204  Duplicate row=  50+\n",
      "No. of duplicates=  14  Duplicate row=  0+\n",
      "Column=  Type\n",
      "No. of duplicates=  9591  Duplicate row=  Free\n",
      "No. of duplicates=  9591  Duplicate row=  Free\n",
      "No. of duplicates=  9591  Duplicate row=  Free\n",
      "No. of duplicates=  9591  Duplicate row=  Free\n",
      "No. of duplicates=  765  Duplicate row=  Paid\n",
      "No. of duplicates=  9591  Duplicate row=  Free\n",
      "No. of duplicates=  9591  Duplicate row=  Free\n",
      "No. of duplicates=  9591  Duplicate row=  Free\n",
      "No. of duplicates=  9591  Duplicate row=  Free\n",
      "No. of duplicates=  9591  Duplicate row=  Free\n",
      "Column=  Price\n",
      "No. of duplicates=  9592  Duplicate row=  0\n",
      "No. of duplicates=  9592  Duplicate row=  0\n",
      "No. of duplicates=  9592  Duplicate row=  0\n",
      "No. of duplicates=  9592  Duplicate row=  0\n",
      "No. of duplicates=  9592  Duplicate row=  0\n",
      "No. of duplicates=  9592  Duplicate row=  0\n",
      "No. of duplicates=  9592  Duplicate row=  0\n",
      "No. of duplicates=  9592  Duplicate row=  0\n",
      "No. of duplicates=  9592  Duplicate row=  0\n",
      "No. of duplicates=  9592  Duplicate row=  0\n",
      "Column=  Content Rating\n",
      "No. of duplicates=  8382  Duplicate row=  Everyone\n",
      "No. of duplicates=  8382  Duplicate row=  Everyone\n",
      "No. of duplicates=  8382  Duplicate row=  Everyone\n",
      "No. of duplicates=  8382  Duplicate row=  Everyone\n",
      "No. of duplicates=  8382  Duplicate row=  Everyone\n",
      "No. of duplicates=  8382  Duplicate row=  Everyone\n",
      "No. of duplicates=  377  Duplicate row=  Everyone 10+\n",
      "No. of duplicates=  8382  Duplicate row=  Everyone\n",
      "No. of duplicates=  8382  Duplicate row=  Everyone\n",
      "No. of duplicates=  8382  Duplicate row=  Everyone\n",
      "Column=  Genres\n",
      "No. of duplicates=  588  Duplicate row=  Entertainment\n",
      "No. of duplicates=  137  Duplicate row=  Maps & Navigation\n",
      "No. of duplicates=  218  Duplicate row=  Arcade\n",
      "No. of duplicates=  588  Duplicate row=  Entertainment\n",
      "No. of duplicates=  372  Duplicate row=  Lifestyle\n",
      "No. of duplicates=  527  Duplicate row=  Education\n",
      "No. of duplicates=  75  Duplicate row=  Adventure\n",
      "No. of duplicates=  218  Duplicate row=  Arcade\n",
      "No. of duplicates=  842  Duplicate row=  Tools\n",
      "No. of duplicates=  58  Duplicate row=  Art & Design\n",
      "Column=  Last Updated\n",
      "No. of duplicates=  21  Duplicate row=  June 4, 2018\n",
      "No. of duplicates=  49  Duplicate row=  August 5, 2018\n",
      "No. of duplicates=  69  Duplicate row=  May 24, 2018\n",
      "No. of duplicates=  11  Duplicate row=  April 30, 2018\n",
      "No. of duplicates=  22  Duplicate row=  July 1, 2018\n",
      "No. of duplicates=  257  Duplicate row=  August 1, 2018\n",
      "No. of duplicates=  10  Duplicate row=  February 2, 2018\n",
      "No. of duplicates=  96  Duplicate row=  July 12, 2018\n",
      "No. of duplicates=  85  Duplicate row=  July 9, 2018\n",
      "No. of duplicates=  14  Duplicate row=  March 14, 2017\n",
      "Column=  Current Ver\n",
      "No. of duplicates=  19  Duplicate row=  3.3\n",
      "No. of duplicates=  1302  Duplicate row=  Varies with device\n",
      "No. of duplicates=  5  Duplicate row=  7.9.3\n",
      "No. of duplicates=  802  Duplicate row=  1.0\n",
      "No. of duplicates=  43  Duplicate row=  1.2.0\n",
      "No. of duplicates=  39  Duplicate row=  4.0\n",
      "No. of duplicates=  43  Duplicate row=  1.2.0\n",
      "No. of duplicates=  8  Duplicate row=  9.0\n",
      "No. of duplicates=  9  Duplicate row=  1.7.0\n",
      "No. of duplicates=  5  Duplicate row=  5.0.1\n",
      "Column=  Android Ver\n",
      "No. of duplicates=  1451  Duplicate row=  4.0.3 and up\n",
      "No. of duplicates=  1221  Duplicate row=  Varies with device\n",
      "No. of duplicates=  2379  Duplicate row=  4.1 and up\n",
      "No. of duplicates=  2379  Duplicate row=  4.1 and up\n",
      "No. of duplicates=  1337  Duplicate row=  4.0 and up\n",
      "No. of duplicates=  894  Duplicate row=  4.4 and up\n",
      "No. of duplicates=  2379  Duplicate row=  4.1 and up\n",
      "No. of duplicates=  2379  Duplicate row=  4.1 and up\n",
      "No. of duplicates=  1337  Duplicate row=  4.0 and up\n",
      "No. of duplicates=  387  Duplicate row=  4.2 and up\n"
     ]
    }
   ],
   "source": [
    "for i in play_store_dict:\n",
    "    print(\"Column= \",i)\n",
    "    get_duplicates(play_store_dict[i],10)\n",
    "    "
   ]
  },
  {
   "cell_type": "code",
   "execution_count": 63,
   "metadata": {},
   "outputs": [
    {
     "name": "stdout",
     "output_type": "stream",
     "text": [
      "[]\n",
      "[0]\n",
      "[0]\n"
     ]
    }
   ],
   "source": [
    "def check_for_non_asc(x):\n",
    "    non_asc_index = []\n",
    "    for val in x:\n",
    "        if(val.isascii() == False):\n",
    "            non_asc_index.append(x.index(val))\n",
    "    #return x.isascii()\n",
    "    \n",
    "    return non_asc_index\n",
    "\n",
    "\n",
    "print(check_for_non_asc([\"Test\"]))\n",
    "print(check_for_non_asc([\"_1991_اف_جي2\"]))\n",
    "print(check_for_non_asc([\"Babbel – Learn Languages\"]))\n"
   ]
  },
  {
   "cell_type": "code",
   "execution_count": 61,
   "metadata": {},
   "outputs": [
    {
     "name": "stdout",
     "output_type": "stream",
     "text": [
      "7 Fruit Ninja®\n",
      "13 XCOM®: Enemy Within\n",
      "17 Xperia Link™\n",
      "24 Cookpad - FREE recipe search makes fun cooking · musical making!\n",
      "44 Anime Love Story Games: ✨Shadowtime✨\n",
      "58 AC - Tips & News for Android™\n",
      "117 뽕티비 - 개인방송, 인터넷방송, BJ방송\n",
      "130 Meitu – Beauty Cam, Easy Photo Editor\n",
      "147 SecondSecret ‐「恋を読む」BLノベルゲーム‐\n",
      "158 Skip-Bo™\n",
      "205 U Launcher Lite – FREE Live Cool Themes, Hide Apps\n",
      "223 Low Poly – Puzzle art game\n",
      "232 Sona - Nær við allastaðni\n",
      "233 EA SPORTS™ FIFA 18 Companion\n",
      "261 💘 WhatsLov: Smileys of love, stickers and GIF\n",
      "263 EZCast – Cast Media to TV\n",
      "276 SUBWAY®\n",
      "281 FK Čukarički\n",
      "282 Babbel – Learn Languages\n",
      "292 Cheapflights – Flight Search\n",
      "309 Live Camera Viewer ★ World Webcam & IP Cam Streams\n",
      "313 DU Browser—Browse fast & fun\n",
      "331 Direct Express®\n",
      "332 Robot Fighting Games™ - Real Boxing Champions 3D\n",
      "368 Mirror’s Edge™ Companion\n",
      "375 DG ग्राम / Digital Gram Panchayat\n",
      "282 Babbel – Learn Languages\n",
      "407 Disciple Maker’s (DM) Lab\n",
      "439 Lep's World 3 🍀🍀🍀\n",
      "441 PBA® Bowling Challenge\n",
      "446 Knightfall™ AR\n",
      "448 studentsLife by FH Kärnten\n",
      "456 Ay Yıldız Keyboard\n",
      "473 El Nuevo Día\n",
      "487 BG Advisor™\n",
      "492 DC Super Hero Girls™\n",
      "509 Evernote – Organizer, Planner for Notes & Memos\n",
      "517 Piano Tiles 2™\n",
      "534 CK 初一 十五\n",
      "559 The Simpsons™: Tapped Out\n",
      "573 Dating for 50 plus Mature Singles – FINALLY\n",
      "652 Cádiz CB Gades\n",
      "663 Batmobile™ R/C Controller\n",
      "696 Mas Akıllı Ev\n",
      "704 AP App for Android™\n",
      "731 Visuelles Wörterbuch Audio-App\n",
      "733 Citi Mobile®\n",
      "573 Dating for 50 plus Mature Singles – FINALLY\n",
      "753 My AEK - Official ΑΕΚ FC app\n",
      "759 Alarm.fo – choose your info\n",
      "775 Six Packs for Man–Body Building with No Equipment\n",
      "804 Moto Suggestions ™\n",
      "882 Free Resume Builder – CV Maker\n",
      "900 DW فارسی By dw-arab.com\n",
      "492 DC Super Hero Girls™\n",
      "920 パーリーゲイツ公式通販｜EJ STYLE（イージェイスタイル）\n",
      "926 Top #5 Bσσkie in AU\n",
      "929 Zona Azul Digital Fácil SP CET - OFFICIAL São Paulo\n",
      "957 BURGER KING® App\n",
      "989 Météociel\n",
      "1005 Yahoo Mail – Stay Organized\n",
      "1054 Barbie™ Fashion Closet\n",
      "1059 FK Sūduva Marijampolė\n",
      "1074 Call of Duty®: Heroes\n",
      "1079 لعبة تقدر تربح DZ\n",
      "1090 EliteSingles – Dating for Single Professionals\n",
      "1130 Moneycontrol – Stocks, Sensex, Mutual Funds, IPO\n",
      "1132 Jurassic World™ Alive\n",
      "1137 Trucker Path – Truck Stops & Weigh Stations\n",
      "1140 Pokémon TV\n",
      "1141 Agoda – Hotel Booking Deals\n",
      "1146 Checkers ✔️\n",
      "1161 H-Kakashi - theme Xperia™\n",
      "1167 Mehmet Emin Ay İlahileri\n",
      "1196 Ríos de Fe\n",
      "1203 What's Your Story?™ ft Charmed\n",
      "1242 Gnoche entertainment news · sports news is also free\n",
      "1243 Chat Anónimo Gratis Español CG\n",
      "1247 Overstock – Home Decor, Furniture Shopping\n",
      "1264 DM Buddy » Learn Digital Marketing\n",
      "1296 Alarm Clock Plus★\n",
      "1054 Barbie™ Fashion Closet\n",
      "1354 MARCA - Diario Líder Deportivo\n",
      "1391 Dr. Panda Café Freemium\n",
      "1418 Microsoft Power BI–Business data analytics\n",
      "1450 L.POINT - 엘포인트 [ 포인트, 멤버십, 적립, 사용, 모바일 카드, 쿠폰, 롯데]\n",
      "1466 EA SPORTS UFC®\n",
      "1469 PitchBlack S - Samsung Substratum Theme “For Oreo”\n",
      "1484 Need for Speed™ No Limits\n",
      "1488 Nights at Cube Pizzeria 3D – 3\n",
      "1555 Dominos Game ✔️\n",
      "1575 MMX Hill Dash 2 – Offroad Truck, Car & Bike Racing\n",
      "1580 Soccer Star 2018 Top Leagues · MLS Soccer Games\n",
      "1629 Sudy – Meet Elite & Rich Single\n",
      "1669 Guess the Class 🔥 AQW\n",
      "1709 FA Part 1 & 2 Past Papers Solved Free – Offline\n",
      "1718 V.360° Camera\n",
      "1719 📏 Smart Ruler ↔️ cm/inch measuring for homework!\n",
      "1736 Destroy Gunners Σ\n",
      "1741 LEGO ® Batman: Beyond Gotham\n",
      "1750 Peak – Brain Games & Training\n",
      "1753 ZEDGE™ Ringtones & Wallpapers\n",
      "1760 FP Разбитый дисплей\n",
      "1770 英漢字典 EC Dictionary\n",
      "1772 中国語 AQリスニング\n",
      "1775 Exército Brasileiro\n",
      "1782 EG Classroom Decimals™\n",
      "1830 Digital FM Brasília DF\n",
      "1852 FO STELIA Méaulte\n",
      "1874 Color by Number – New Coloring Book\n",
      "1887 Maps & GPS Navigation — OsmAnd\n",
      "1900 Mizanul-Hikmət 2-ci cild\n",
      "1917 NissanConnect® EV & Services\n",
      "1922 EF Catalogues · Kataloge\n",
      "1247 Overstock – Home Decor, Furniture Shopping\n",
      "1971 T. Rowe Price Personal® App\n",
      "1975 happn – Local dating app\n",
      "1989 Gâteau au yaourt\n",
      "2003 FreePrints – Free Photos Delivered\n",
      "2019 Clean My House – Chore To Do List, Task Scheduler\n",
      "2039 Truyện Vui Tý Quậy\n",
      "2066 P XPERIA Theme™ | INDIGO - Design For SONY 🎨\n",
      "2080 New YAHTZEE® With Buddies Dice Game\n",
      "2122 Hamilton — The Official App\n",
      "2132 Nights at Cube Pizzeria 3D – 4\n",
      "2138 Barcelona Live 2018—Goals & News for Barca FC Fans\n",
      "2142 FAHREDDİN er-RÂZİ TEFSİRİ\n",
      "2160 乐屋网: Buying a house, selling a house, renting a house\n",
      "2197 Discovery K!ds Play! Español\n",
      "2239 Auto DM for Twitter 🔥\n",
      "2257 Beauty Makeup – Photo Makeover\n",
      "2270 NBA JAM by EA SPORTS™\n",
      "2290 DM for IG 😘 - Image & Video Saver for Instagram\n",
      "2320 FK Mladá Boleslav\n",
      "2351 Ay Yıldız Analog Saat\n",
      "2358 Ey Sey Storytime រឿងនិទានតាឥសី\n",
      "2413 Apps for SportsBєtting.ag - Bitcoin Welcome here!\n",
      "2449 GRE® Flashcards by Kaplan\n",
      "2462 La Fe de Jesús\n",
      "2466 Rádio Sol Nascente DF\n",
      "2469 Šmelina .cz inzeráty inzerce\n",
      "2478 Messenger – Text and Video Chat for Free\n",
      "1874 Color by Number – New Coloring Book\n",
      "2511 Offline Jízdní řády CG Transit\n",
      "2517 ZenUI Keyboard – Emoji, Theme\n",
      "2552 Vonage Mobile® Call Video Text\n",
      "2561 Büfe BU\n",
      "2583 Dolphin Browser - Fast, Private & Adblock🐬\n",
      "2586 DU Emoji Keyboard（Simeji）\n",
      "2601 IHOP®\n",
      "2613 Burrito Bash – We Bare Bears\n",
      "2619 LEGO® Juniors Create & Cruise\n",
      "2623 AS - Diario online deportivo. Fútbol, motor y más\n",
      "2681 BH Açaí\n",
      "1005 Yahoo Mail – Stay Organized\n",
      "2720 OpenVPN Connect – Fast & Safe SSL VPN Client\n",
      "2768 Cool Popular Ringtones 2018 🔥\n",
      "2769 Pluto TV - It’s Free TV\n",
      "2776 Moony Lab - Print Photos, Books & Magnets ™\n",
      "2784 FK Željezničar\n",
      "2794 ÖBB Scotty\n",
      "2797 বাংলাflix\n",
      "2818 Meet – Talk to Strangers Using Random Video Chat\n",
      "2848 D.W Bien Être\n",
      "2853 Nights at Cube Pizzeria 3D – 2\n",
      "2854 Je Parle ANGLAIS - Apprendre l’anglais Audio cours\n",
      "2855 Nur təfsiri 1-ci cild\n",
      "2872 Period Tracker, Pregnancy Calculator & Calendar 🌸\n",
      "2884 HelloTalk — Chat, Speak & Learn Foreign Languages\n",
      "2892 1. FC Köln App\n",
      "2478 Messenger – Text and Video Chat for Free\n",
      "2927 Esporte Interativo - Notícias e Resultados Ao Vivo\n",
      "2933 No.Color – Color by Number\n",
      "2948 EF/VR – VR Tours of EF Schools\n",
      "292 Cheapflights – Flight Search\n",
      "2970 DU Recorder – Screen Recorder, Video Editor, Live\n",
      "2977 AJ렌터카 법인 카셰어링\n",
      "3049 myMail – Email for Hotmail, Gmail and Outlook Mail\n",
      "3054 Skip-Bo™ Free\n",
      "3086 AndroZip™ FREE File Manager\n",
      "3097 РИА Новости\n",
      "3104 LIKE – Magic Video Maker & Community\n",
      "3124 O Céu e o Inferno\n",
      "3125 I’m Expecting - Pregnancy App\n",
      "3168 Málaga CF Wallpapers 4 Fans\n",
      "3180 LEGO® TV\n",
      "3200 El Falı\n",
      "3236 Discípulos em BH\n",
      "3266 ASCP® CG Exam Flashcards 2018\n",
      "3267 РееI Smart Remote MP3 CD Player\n",
      "3278 Buscapé - Offers and discounts\n",
      "3286 Weaphones™ Gun Sim Free Vol 1\n",
      "3306 Stand O’Food® (Full)\n",
      "3327 Super Funny Ringtones 2018 🔔\n",
      "3332 Quiz for Clash Royale™\n",
      "3353 FK Bregalnica Štip\n",
      "3392 Skiplagged — Exclusive Flights & Hotels\n",
      "3407 あなカレ【BL】無料ゲーム\n",
      "3436 RMEduS - 음성인식을 활용한 R 프로그래밍 실습 시스템\n",
      "3437 Modlitební knížka CZ\n",
      "3447 DM הפקות\n",
      "3458 Аim Training for CS\n",
      "3485 Romance et Mystères au Lycée\n",
      "3499 BL 女性向け恋愛ゲーム◆俺プリクロス\n",
      "3504 Diário Escola Mestres EF\n",
      "492 DC Super Hero Girls™\n",
      "3571 myAir™ for Air10™ by ResMed\n",
      "3657 P Launcher Theme For Android™ 9.0\n",
      "3663 Real Sheet ∞: Pathfinder + DT\n",
      "3664 Sonic the Hedgehog™ Classic\n",
      "3673 S’more - Earn Cash Rewards\n",
      "3704 Flame - درب عقلك يوميا\n",
      "3714 Amazon FreeTime – Kids’ Videos, Books, & TV shows\n",
      "3716 Game of Thrones: Conquest™\n",
      "1005 Yahoo Mail – Stay Organized\n",
      "3759 Cardio Journal — Blood Pressure Log\n",
      "3774 News: DW Español\n",
      "3777 ReadEra – free ebook reader\n",
      "3795 DisneyNOW – TV Shows & Games\n",
      "3803 【Miku AR Camera】Mikuture\n",
      "509 Evernote – Organizer, Planner for Notes & Memos\n",
      "3832 CSCS BG (в български)\n",
      "3877 EB-Chat – For my Events\n",
      "3899 Supermarket – Game for Kids\n",
      "3921 Safe365 – Cell Phone GPS Locator For Your Family\n",
      "3953 PDF Reader – PDF Editor 2018\n",
      "3972 Babbel – Learn Spanish\n",
      "3988 AS Guía de las Ligas 2017-2018\n",
      "4056 DU Privacy-hide apps、sms、file\n",
      "4082 Cestovné poriadky CP\n",
      "4096 Pixlr – Free Photo Editor\n",
      "4122 Qarabağ FK\n",
      "4171 Zalo – Video Call\n",
      "4181 Pistolet FN 1906 expliqué\n",
      "3180 LEGO® TV\n",
      "4272 Билеты ПДД CD 2019 PRO\n",
      "4274 Plants vs. Zombies™ Heroes\n",
      "4292 Fountain Live Wallpaper HD – Dubai Wallpaper 3D\n",
      "4318 KineMaster – Pro Video Editor\n",
      "4390 USPS MOBILE®\n",
      "4396 💎 I'm rich\n",
      "4408 AVG Cleaner – Speed, Battery & Memory Booster\n",
      "4409 Monster High™\n",
      "4426 PumpUp — Fitness Community\n",
      "4437 Boyaa Poker (En) – Social Texas Hold’em\n",
      "4444 MagiMobile – Mighty Magiswords\n",
      "4448 Kernel Manager for Franco Kernel ✨\n",
      "4454 PDF Reader - Scan、Edit & Share\n",
      "4494 AT&T Smart Limits℠\n",
      "4502 Chinese Chess 3D Online (Xiangqi, 象棋, co tuong)\n",
      "4522 Wattpad 📖 Free Books\n",
      "4547 Wendy’s – Food and Offers\n",
      "4575 AÖF Ev İdaresi 1. Sınıf\n",
      "4601 Call of Mini™ Dino Hunter\n",
      "4610 ¡Ay Caramba!\n",
      "4613 Můj T-Mobile Business\n",
      "4615 Coupons.com – Grocery Coupons & Cash Back Savings\n",
      "4657 Who viewed my fb profile pro★★\n",
      "4663 LEGO® DC Mighty Micros\n",
      "4683 Programi podrške EU\n",
      "4695 Mix Tank – Tank Mixing Ag App\n",
      "4752 GEM™\n",
      "4753 Live Hold’em Pro Poker - Free Casino Games\n",
      "4762 Vivid Seats – Event Tickets\n",
      "4778 Words With Friends – Play Free\n",
      "4792 Freeme Launcher—Stylish Theme\n",
      "4806 3D DJ – Music Mixer with Virtual DJ\n",
      "282 Babbel – Learn Languages\n",
      "4852 Bacterial Vaginosis 🇺🇸\n",
      "4856 EI国际\n",
      "4862 Berlin Subway – BVG U-Bahn & S-Bahn map and routes\n",
      "4873 Pony Friends 🦄 - Beepzz racing game for kids\n",
      "4874 Turbo AI™ - Personal assistant\n",
      "4921 BM Tahmin: Ücretsiz İddaa Tahminleri\n",
      "4925 BH Táxi\n",
      "4930 Pacify Exceed (Android P) - Theme for Xperia™\n",
      "4933 IDM for Facebook ★ Downloader\n",
      "4935 Meu Cartão BV\n",
      "4937 Casual Sic Bo (骰寶)\n",
      "4945 Dungeon Boss – Strategy RPG\n",
      "4962 Strætó.is\n",
      "4965 The Sims™ FreePlay\n",
      "5010 Visage Lab – face retouch\n",
      "5054 Pistolet FN GP35 expliqué\n",
      "5058 No.Diamond – Colors by Number\n",
      "5073 Comic Es - Shojo manga / love comics free of charge ♪ ♪\n",
      "5092 CheapTickets – Hotels, Flights & Travel Deals\n",
      "5093 ZenUI Themes – Stylish Themes\n",
      "5111 BS Calendar / Patro / पात्रो\n",
      "5126 Roll the Ball® - slide puzzle\n",
      "1130 Moneycontrol – Stocks, Sensex, Mutual Funds, IPO\n",
      "5146 Barbie Life™\n",
      "5167 BJ’s Mobile App\n",
      "5168 Home Scouting® MLS Mobile\n",
      "5194 ¡Ay Metro!\n",
      "5213 FE EN ACCIÓN RADIO\n",
      "313 DU Browser—Browse fast & fun\n",
      "5286 Kids Animals Jigsaw Puzzles 😄\n",
      "5320 P9 Launcher - Android™ 9.0 P Launcher Style\n",
      "5340 Diseño de columnas NTC - RSEE 2017\n",
      "3795 DisneyNOW – TV Shows & Games\n",
      "5370 Jenga® AR\n",
      "5375 Paris ci la Sortie du Métro\n",
      "5391 FK Železiarne Podbrezová\n",
      "5402 Anime et Manga Amino en Français\n",
      "5409 Capital One® Mobile\n",
      "5420 Al Quran Free - القرآن (Islam)\n",
      "5422 HAWK – Force of an Arcade Shooter. Shoot 'em up\n",
      "5426 Manga Net – Best Online Manga Reader\n",
      "5439 Motorola Spotlight Player™\n",
      "5466 Ak Parti Yardım Toplama\n",
      "5468 C3-C4-PİCASSO-ELYSEE RACİNG\n",
      "5475 Match™ Dating - Meet Singles\n",
      "5484 Nusenda CU– Mobile Banking\n",
      "5506 Univision Deportes: Liga MX, MLS, Fútbol En Vivo\n",
      "509 Evernote – Organizer, Planner for Notes & Memos\n",
      "5534 OO Launcher for Android O 8.0 Oreo™ Launcher\n",
      "5409 Capital One® Mobile\n",
      "5552 Oración CX\n",
      "5559 I'm Rich/Eu sou Rico/أنا غني/我很有錢\n",
      "5576 tökr\n",
      "5592 HTC Service － DLNA\n",
      "5593 Calvin Klein – US Store\n",
      "5599 Meu Calendário CP\n",
      "5617 Texas Hold’em Poker + | Social\n",
      "5619 AT&T THANKS®\n",
      "5636 Snaappy – 3D fun AR core communication platform\n",
      "5644 BU HANGİ ŞARKI ? - 2018\n",
      "5645 EZ Usenet for Easynews®\n",
      "5668 E-Z App™ Train Control\n",
      "5735 Popeyes® App\n",
      "5760 صور حرف H\n",
      "5856 漫咖 Comics - Manga,Novel and Stories\n",
      "5885 SeatGeek – Tickets to Sports, Concerts, Broadway\n",
      "5937 ECナビ×シュフー\n",
      "1753 ZEDGE™ Ringtones & Wallpapers\n",
      "1887 Maps & GPS Navigation — OsmAnd\n",
      "6036 My Day - Countdown Calendar 🗓️\n",
      "6042 Quik – Free Video Editor for photos, clips, music\n",
      "6075 Univision Deportes: Liga MX, MLS, Fútbol Live\n",
      "6096 【Ranobbe complete free】 Novelba - Free app that you can read and write novels\n",
      "6106 Südtirol2Go\n",
      "6108 AntennaPict β\n",
      "6112 UNO ™ & Friends\n",
      "4522 Wattpad 📖 Free Books\n",
      "6173 qEG APP / Química EG SRL\n",
      "6214 CW Studio ®\n",
      "6243 Docs To Go™ Free Office Suite\n",
      "6245 Modern Counter Terror Attack – Shooting Game\n",
      "6251 Invoice 2go — Professional Invoices and Estimates\n",
      "6264 Heart of Vegas™ Slots – Free Slot Casino Games\n",
      "6265 Kids Balloon Pop Game Free 🎈\n",
      "6323 ChangeDA - Cours du DZD sur le marché parallèle\n",
      "6341 PhotoLayers〜Superimpose,Eraser\n",
      "6360 Top Popular Ringtones 2018 Free 🔥\n",
      "6409 Call of Mini™ Zombies 2\n",
      "6413 FlirtChat - ♥Free Dating/Flirting App♥\n",
      "6420 Führerschein Klasse CE, LKW 2018\n",
      "6428 Al Quran MP3 - Quran Reading®\n",
      "276 SUBWAY®\n",
      "6529 BURGER KING® Puerto Rico\n",
      "6555 乗換NAVITIME　Timetable & Route Search in Japan Tokyo\n",
      "6569 SweetLand — Family Board Game\n",
      "6584 B y H Niños ES\n",
      "6587 2018Emoji Keyboard 😂 Emoticons Lite -sticker&gif\n",
      "6599 icon wallpaper dressup💞CocoPPa\n",
      "6620 pretty Easy privacy p≡p\n",
      "6632 Pokémon GO\n",
      "6653 BZ Berner Oberländer\n",
      "6656 WSVN • South Florida's Source for Weather\n",
      "6671 Call Free – Free Call\n",
      "6683 Curso Básico y Avanzado la Fe de Jesús Audio-Texto\n",
      "6727 DU Cleaner – Memory cleaner & clean phone cache\n",
      "6805 Bu Hangi Ünlü?\n",
      "6832 Rоhi.af\n",
      "6858 Car Racing game for Kids - Beepzz Dogs 🐕\n",
      "6864 FK Viktoria Žižkov\n",
      "6898 Sonic 4™ Episode I\n",
      "6904 AutoScout24 Switzerland – Find your new car\n",
      "6925 e-DN - den digitala tidningen från Dagens Nyheter\n",
      "6931 Doctr – ER wait times in Canada\n",
      "6950 FUN Keyboard – Emoji Keyboard, Sticker,Theme & GIF\n",
      "6961 FollowMyHealth®\n",
      "6963 GO Security－AntiVirus, AppLock, Booster\n",
      "7051 B-Dubs®\n",
      "7069 EF Parеnts\n",
      "7083 Punjab Online - Land Records • EB Bill Pay • RC/DL\n",
      "7089 Dungeon Hunter 5 – Action RPG\n",
      "7095 Geocaching®\n",
      "7108 Röhrich Werner Soundboard\n",
      "7113 DW Spectrum™ IP VMS\n",
      "1750 Peak – Brain Games & Training\n",
      "7181 RPG ブレイジング ソウルズ アクセレイト\n",
      "7189 P XPERIA Theme™ | Design For SONY 🎨\n",
      "4274 Plants vs. Zombies™ Heroes\n",
      "7243 BitTorrent®- Torrent Downloads\n",
      "2884 HelloTalk — Chat, Speak & Learn Foreign Languages\n",
      "7268 Pureness Pacify (Android P) - Theme for Xperia™\n",
      "7319 Bono’s Pit Bar-B-Q\n",
      "7326 CJ Auto école\n",
      "7335 Hlášenírozhlasu.cz\n",
      "7387 My Days - Ovulation Calendar & Period Tracker ™\n",
      "7388 \"i DT\" Fútbol. Todos Somos Técnicos.\n",
      "7433 At home - rental · real estate · room finding application such as apartment · apartment\n",
      "7445 Combat Strike CS 🔫 Counter Terrorist Attack FPS💣\n",
      "7464 Pharmacy CI - Pharmacies de garde Côte d'Ivoire\n",
      "7472 AP® Guide\n",
      "7477 autoricardo.ch – vehicles\n",
      "4409 Monster High™\n",
      "7495 Kanji test · Han search Kanji training (free version)\n",
      "7510 O Launcher 8.0 for Android™ O Oreo Launcher\n",
      "7515 Égalité et Réconciliation\n",
      "7526 SB · FN 1870 Mobile Banking\n",
      "7578 CNY Slots : Gong Xi Fa Cai 发财机\n",
      "7581 Transenger – Ts Dating and Chat for Free\n",
      "2619 LEGO® Juniors Create & Cruise\n",
      "7656 Ascape VR: 360° Virtual Travel\n",
      "3125 I’m Expecting - Pregnancy App\n",
      "7684 Cъновник BG\n",
      "7690 Bitmoji – Your Personal Emoji\n",
      "7692 Fisher-Price® Smart Connect™\n",
      "7741 Red Hands – 2-Player Games\n",
      "7765 Coupe Adhémar EY 2017\n",
      "7803 Homes.com 🏠 For Sale, Rent\n",
      "7826 Weather –Simple weather forecast\n",
      "7827 FK Fotbal Třinec\n",
      "7862 México City D.F News\n",
      "7878 EG SIM CARD (EGSIMCARD, 이지심카드)\n",
      "7884 CarMax – Cars for Sale: Search Used Car Inventory\n",
      "7888 iTooch Mathématiques CP\n",
      "7890 Obbligo o Verità? PRO\n",
      "7898 Dr. Cares - Pet Rescue 911 🐶\n",
      "7909 DZ Fly Algérie Horaire Vols\n",
      "7930 La Poupée du Voyant\n",
      "4547 Wendy’s – Food and Offers\n",
      "7941 BN Más Cerca de Usted\n",
      "7953 Instachat 😜\n",
      "7964 Dragonplay™ Poker Texas Holdem\n",
      "7998 Cheap hotel deals and discounts — Hotellook\n",
      "8004 Learn Spanish - Español\n",
      "8061 Zynga Poker – Texas Holdem\n",
      "8064 Space Z 🌏 🚀Icon Pack Theme\n",
      "8081 M3-X5-X6-M-İ3-İ8 RACİNG 2018\n",
      "8112 Lep's World 2 🍀🍀\n",
      "8118 My Little Work – Garage\n",
      "8135 TeamWard – live help for LoL\n",
      "6413 FlirtChat - ♥Free Dating/Flirting App♥\n",
      "1132 Jurassic World™ Alive\n",
      "8272 Big Fish Casino – Play Slots & Vegas Games\n",
      "8281 Técnico Legislativo Câmara Legislativa DF\n",
      "8284 CM Launcher 3D Pro💎\n",
      "8298 Star Wars™: Galaxy of Heroes\n",
      "8317 CE-SETRAM l’Appli\n",
      "8321 Mali 7 - Actualités au Mali\n",
      "8338 Marítimo EC\n",
      "8348 IV Go（get IV for Pokemon）\n",
      "8354 BL 女性向け恋愛ゲーム◆ごくメン\n",
      "8361 🔥 Football Wallpapers 4K | Full HD Backgrounds 😍\n",
      "8369 IHG®: Hotel Deals & Rewards\n",
      "8378 Du Chinese – Mandarin Lessons\n",
      "8396 DN - Diário de Notícias\n",
      "8412 Ever After High™ Charmed Style\n",
      "8418 Bi en Línea\n",
      "8435 South Park: Phone Destroyer™\n",
      "8442 Freeform – Stream Full Episodes, Movies, & Live TV\n",
      "8486 Horoscopes – Daily Zodiac Horoscope and Astrology\n",
      "8488 Orbita AI — Exciting mobile puzzles & riddles\n",
      "8493 OurHome – chores, rewards, groceries and calendar\n",
      "8495 BQ-መጽሐፍ ቅዱሳዊ ጥያቄዎች\n",
      "8523 Bonjour 2017 Abidjan CI ❤❤❤❤❤\n",
      "8538 Lapse It • Time Lapse • Pro\n",
      "8556 Safe Ag Systems™\n",
      "8563 WannaMeet – Dating & Chat App\n",
      "8570 FK Željezničar Izzy\n",
      "8574 Star Wars ™: DIRTY\n",
      "8576 Au Mobile: Audition Chính Hiệu\n",
      "8577 P Launcher for Android™ 9.0\n",
      "8582 ► MultiCraft ― Free Miner! 👍\n",
      "8621 Brilliant Distinctions®\n",
      "8630 Puzzle Alarm Clock ⏰\n",
      "8632 BQ Llicència\n",
      "8635 Lep's World 🍀\n",
      "8638 Casa de Bolsa Bx+ Móvil\n",
      "8663 AT&T FamilyMap®\n",
      "8692 Digoo·Cloud\n",
      "8714 감성학원 BL 첫사랑\n",
      "8717 The Sims™ Mobile\n",
      "8736 Baby Panda’s Juice Shop\n",
      "8741 Táxi Nacional BR\n",
      "8761 বাংলা টিভি প্রো BD Bangla TV\n",
      "8778 Official QR Code® Reader \"Q\"\n",
      "8780 Battlefield™ Companion\n",
      "8783 أحداث وحقائق | خبر عاجل في اخبار العالم\n",
      "8820 Monster High™ Minis Mania\n",
      "8834 Bubbu – My Virtual Pet\n",
      "8855 Blagues et Histoires Drôles\n",
      "8871 BN PERKS™\n",
      "8875 Gay Sugar Daddy Dating & Hookup – Sudy Gay\n",
      "8897 Find Real Love — YouLove Premium Dating\n",
      "8909 Brightest Flashlight Free ®\n",
      "8914 Rádio DF FM\n",
      "8924 FaFaFa™ Gold Casino: Free slot machines\n",
      "8954 CheckPoints 🏆 Rewards App\n",
      "9032 သိင်္ Astrology - Min Thein Kha BayDin\n",
      "9036 BURGER KING® MOBILE APP\n",
      "9037 Plants vs. Zombies™ Watch Face\n",
      "9048 ColorSnap® Visualizer\n",
      "9050 MAPS.ME – Offline Map and Travel Navigation\n",
      "9071 Best New Ringtones 2018 Free 🔥 For Android™\n",
      "9074 BW Mobilbanking für Smartphone und Tablet\n",
      "9080 DW Spectrum™ IPVMS Mobile\n",
      "9092 Free Fur All – We Bare Bears\n",
      "9103 Tapas – Comics, Novels, and Stories\n",
      "9113 Wisepilot for XPERIA™\n",
      "9129 Fon WiFi App – WiFi Connect\n",
      "9130 Modcloth – Unique Indie Women's Fashion & Style\n",
      "9149 İşCep\n",
      "9212 Fuel Rewards® program\n",
      "9236 World Series of Poker – WSOP Free Texas Holdem\n",
      "9259 Star Wars™: Force Arena\n",
      "9261 DF Wall Plus – Droid Firewall\n",
      "9276 Vip视频免费看-BT磁力搜索\n",
      "9291 Pacify (Android P theme) - Theme for Xperia™\n",
      "9307 Plants vs. Zombies™ 2\n",
      "9420 1LINE – One Line with One Touch\n",
      "9440 Block! Hexa Puzzle™\n",
      "9463 CALCU™ Stylish Calculator Free\n",
      "9489 哈哈姆特不EY\n",
      "9522 TEKKEN™\n",
      "9547 ¿Es Vegan?\n",
      "9552 Pistolet CZ-70 CZ-50 expliqué\n",
      "9553 HTC Service—Video Player\n",
      "6632 Pokémon GO\n",
      "9564 الفاتحون Conquerors\n",
      "9608 SharedCare™ Co-parenting\n",
      "4965 The Sims™ FreePlay\n",
      "9627 ABC – Live TV & Full Episodes\n",
      "9645 REI – Shop Outdoor Gear\n",
      "9656 Garmin Connect™\n",
      "9691 ICQ — Video Calls & Chat Messenger\n",
      "9695 Doomsday Preppers™\n",
      "9712 signály.cz\n",
      "9730 Ay Yıldız - Xperia Live Theme\n",
      "9766 Batman: Gotham’s Most Wanted!\n",
      "9835 Neuvaines et prières au Coeur Sacré de Jésus\n",
      "9845 iMediaShare – Photos & Music\n",
      "9850 SeriesGuide – Show & Movie Manager\n",
      "9881 LEGO® Friends: Heartlake Rush\n",
      "9882 Sync.ME – Caller ID & Block\n",
      "9884 Dino Defends king 3 – Dinosaur T rex Hunter Games\n",
      "9916 SkyLove – Dating and chat\n",
      "9931 Zappos – Shoe shopping made simple\n",
      "9934 Météo Algérie DZ\n",
      "9942 EJ Trívia Game\n",
      "9944 DF 司機\n",
      "9981 Ay Yıldız Duvar Kağıtları\n",
      "10010 P XPERIA Theme™ | PURPLE - Design For SONY 🎨\n",
      "10042 FH® Cost Lookup / FH® CCSalud\n",
      "10073 LEGO® Friends\n",
      "10078 Convert degree Celsius to Fahrenheit or °F to °C\n",
      "10084 Cargo de Praça PM DF\n",
      "10137 U LIVE – Video Chat & Stream\n",
      "10138 BZ Straußenführer\n",
      "58 AC - Tips & News for Android™\n",
      "10162 Restaurantführer Südbaden\n",
      "10166 Rized ‼️ Color By Number & Pixel Coloring Book\n",
      "10176 Painel EJ SSH - INTERNET GRÁTIS\n",
      "10185 Messenger Kids – Safer Messaging and Video Chat\n",
      "10190 Dr. Cares - Amy's Pet Clinic 🐈 🐕\n",
      "10203 Android P | Xperia™ Theme 4800+ icons\n",
      "10217 På sporet ABC (BM)\n",
      "10228 P Theme for Android™ P 9.0 Style Launcher\n",
      "10243 T-Mobile® FamilyMode™\n",
      "10253 RollerCoaster Tycoon® Classic\n",
      "10266 Fox News – Breaking News, Live Video & News Alerts\n",
      "10267 3D DJ – DJ Mixer 2018\n",
      "10284 日本AV历史\n"
     ]
    }
   ],
   "source": [
    "non_eng_index = check_for_non_asc(play_store_dict['App'])\n",
    "#print(non_eng_index)\n",
    "\n",
    "for x in check_for_non_asc(play_store_dict['App']):\n",
    "    print(x,play_store_dict['App'][x])"
   ]
  },
  {
   "cell_type": "code",
   "execution_count": 95,
   "metadata": {},
   "outputs": [],
   "source": [
    "def check(x):\n",
    "    try:\n",
    "        x.encode(encoding='utf-8').decode('utf-8')\n",
    "    except UnicodeDecodeError:\n",
    "        return False\n",
    "    else:\n",
    "        return True"
   ]
  },
  {
   "cell_type": "code",
   "execution_count": 96,
   "metadata": {},
   "outputs": [
    {
     "data": {
      "text/plain": [
       "True"
      ]
     },
     "execution_count": 96,
     "metadata": {},
     "output_type": "execute_result"
    }
   ],
   "source": [
    "check(\"Babbel–Learn Languages\")"
   ]
  },
  {
   "cell_type": "code",
   "execution_count": 97,
   "metadata": {},
   "outputs": [
    {
     "data": {
      "text/plain": [
       "True"
      ]
     },
     "execution_count": 97,
     "metadata": {},
     "output_type": "execute_result"
    }
   ],
   "source": [
    "check(\"Babbel-LearnLanguages\")"
   ]
  },
  {
   "cell_type": "code",
   "execution_count": 91,
   "metadata": {},
   "outputs": [
    {
     "data": {
      "text/plain": [
       "8211"
      ]
     },
     "execution_count": 91,
     "metadata": {},
     "output_type": "execute_result"
    }
   ],
   "source": [
    "ord('–')"
   ]
  },
  {
   "cell_type": "code",
   "execution_count": 92,
   "metadata": {},
   "outputs": [
    {
     "data": {
      "text/plain": [
       "45"
      ]
     },
     "execution_count": 92,
     "metadata": {},
     "output_type": "execute_result"
    }
   ],
   "source": [
    "ord('-')"
   ]
  },
  {
   "cell_type": "code",
   "execution_count": 98,
   "metadata": {},
   "outputs": [
    {
     "data": {
      "text/plain": [
       "True"
      ]
     },
     "execution_count": 98,
     "metadata": {},
     "output_type": "execute_result"
    }
   ],
   "source": [
    "check(\"SUBWAY®\")"
   ]
  },
  {
   "cell_type": "code",
   "execution_count": 99,
   "metadata": {},
   "outputs": [
    {
     "data": {
      "text/plain": [
       "True"
      ]
     },
     "execution_count": 99,
     "metadata": {},
     "output_type": "execute_result"
    }
   ],
   "source": [
    "check(\"뽕티비 - 개인방송, 인터넷방송, BJ방송\")"
   ]
  },
  {
   "cell_type": "code",
   "execution_count": null,
   "metadata": {},
   "outputs": [],
   "source": []
  }
 ],
 "metadata": {
  "kernelspec": {
   "display_name": "Python 3",
   "language": "python",
   "name": "python3"
  },
  "language_info": {
   "codemirror_mode": {
    "name": "ipython",
    "version": 3
   },
   "file_extension": ".py",
   "mimetype": "text/x-python",
   "name": "python",
   "nbconvert_exporter": "python",
   "pygments_lexer": "ipython3",
   "version": "3.8.5"
  }
 },
 "nbformat": 4,
 "nbformat_minor": 4
}
