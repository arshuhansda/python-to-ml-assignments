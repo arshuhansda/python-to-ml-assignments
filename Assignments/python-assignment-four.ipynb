{
 "cells": [
  {
   "cell_type": "markdown",
   "metadata": {},
   "source": [
    "#### find the area of the triangle"
   ]
  },
  {
   "cell_type": "code",
   "execution_count": 14,
   "metadata": {},
   "outputs": [
    {
     "name": "stdout",
     "output_type": "stream",
     "text": [
      "Enter a: 3\n",
      "Enter b: 4\n",
      "Enter b: 5\n",
      "6.0\n"
     ]
    }
   ],
   "source": [
    "class Triangle:\n",
    "    def __init__(self, a, b, c):\n",
    "        self.a = a\n",
    "        self.b = b\n",
    "        self.c = c\n",
    "\n",
    "class AreaOfTriangle(Triangle):\n",
    "    def __init__(self,a,b,c):\n",
    "        #Triangle.__init__(self,a,b,c) this also works\n",
    "        super().__init__(a,b,c)\n",
    "\n",
    "    def area(self):\n",
    "        s = (self.a+ self.b + self.c)/2 \n",
    "        return (s*(s-self.a)*(s-self.b)*(s-self.c))**(0.5)\n",
    "\n",
    "T1 = AreaOfTriangle(int(input(\"Enter a: \")),int(input(\"Enter b: \")),int(input(\"Enter b: \")))\n",
    "print(T1.area())\n"
   ]
  },
  {
   "cell_type": "markdown",
   "metadata": {},
   "source": [
    "#### A function that takes a list of words and an integer n and returns the list of words that are longer than n."
   ]
  },
  {
   "cell_type": "code",
   "execution_count": 53,
   "metadata": {},
   "outputs": [
    {
     "name": "stdout",
     "output_type": "stream",
     "text": [
      "Enter File Name\n",
      "Length?: \n",
      "['Sunflower,', 'Helianthus,', 'herbaceous', 'Asteraceae.', 'Sunflowers', 'primarily', 'cultivated', 'ornamentals', 'spectacular', 'Jerusalem', 'artichoke', 'Helianthus', 'tuberosus', 'cultivated', 'underground', 'sunflower', 'attractive', 'specimens', 'cultivated', 'petallike', 'single-seeded', 'varieties', 'typically', 'consumption,', 'confection', 'varieties,', 'black-and-white', 'sunflower', 'ornamental', 'compression', 'considered', 'Sunflower', 'lubricant.', 'herbaceous', 'flowering', 'belonging', 'Liliaceae.', 'temperate', 'Hemisphere.', 'ornamental', 'extensively', 'hybridized.\\n', 'longiflorum.\\n', 'Hemerocallis', 'Amaryllidaceae.\\n', 'perennial', 'clustered', 'petallike', 'segments,', 'elongated', 'candidum', 'longiflorum.', 'Alternatively,', 'martagon;', 'umbellatum', 'fragrant,', 'cultivated', 'millennium', 'cultivated', 'medicinal', 'ointment;', 'ornamental', 'medicinal', 'purposes.', 'associated', 'paintings', 'ornamental', 'Different', 'essential.', 'flowering']\n"
     ]
    }
   ],
   "source": [
    "def filter_long_words(values,length):\n",
    "    words_list = []\n",
    "    for lines in values:\n",
    "        words = lines.split(\" \")\n",
    "        #print(words)\n",
    "        words_list.extend([x.replace(\"(\",\"\").replace(\")\",\"\") for x in words if len(x)>length])\n",
    "    \n",
    "    return words_list\n",
    "\n",
    "file_name = input(\"Enter File Name\")\n",
    "length = input(\"Length?: \")\n",
    "if(len(file_name) < 1):\n",
    "    file_name = \"flowers.txt\"\n",
    "if(len(length)<1):\n",
    "    length = 8\n",
    "\n",
    "my_file = open(file_name)\n",
    "\n",
    "print(filter_long_words(my_file,int(length)))"
   ]
  },
  {
   "cell_type": "markdown",
   "metadata": {},
   "source": [
    "#### Maps list of words into a list of integers representing the lengths of the corresponding words."
   ]
  },
  {
   "cell_type": "code",
   "execution_count": 55,
   "metadata": {},
   "outputs": [
    {
     "name": "stdout",
     "output_type": "stream",
     "text": [
      "Enter File Name\n",
      "[10, 5, 11, 5, 6, 7, 10, 6, 3, 5, 6, 11, 10, 3, 6, 9, 5, 3, 5, 8, 3, 4, 7, 3, 10, 11, 3, 5, 11, 4, 3, 6, 5, 3, 3, 5, 6, 6, 3, 9, 9, 10, 9, 10, 3, 3, 6, 11, 8, 3, 6, 9, 2, 6, 6, 4, 4, 5, 5, 4, 5, 6, 4, 4, 4, 3, 6, 8, 8, 5, 6, 6, 4, 6, 4, 8, 8, 3, 10, 5, 7, 3, 6, 4, 4, 9, 3, 5, 4, 10, 6, 3, 4, 7, 3, 6, 7, 7, 5, 3, 9, 3, 7, 3, 7, 3, 5, 13, 7, 7, 9, 9, 4, 5, 5, 8, 5, 5, 5, 3, 6, 4, 12, 5, 10, 10, 4, 6, 15, 7, 4, 7, 8, 4, 3, 4, 8, 3, 6, 9, 8, 4, 8, 4, 4, 10, 5, 5, 3, 6, 3, 4, 7, 3, 7, 5, 6, 4, 3, 3, 5, 7, 3, 3, 3, 4, 3, 5, 3, 5, 6, 3, 8, 11, 3, 5, 10, 5, 5, 6, 3, 3, 5, 4, 9, 3, 4, 4, 3, 5, 3, 7, 8, 3, 3, 4, 4, 4, 3, 6, 3, 10, 3, 5, 3, 5, 6, 8, 6, 4, 3, 6, 3, 3, 6, 8, 7, 5, 3, 6, 4, 7, 10, 9, 6, 9, 3, 5, 6, 3, 6, 10, 3, 5, 8, 7, 3, 3, 8, 6, 3, 9, 5, 3, 8, 11, 6, 3, 6, 10, 7, 3, 4, 4, 4, 11, 12, 6, 4, 6, 13, 6, 5, 3, 4, 4, 4, 4, 3, 6, 5, 4, 6, 5, 6, 4, 8, 4, 7, 5, 7, 3, 3, 4, 12, 3, 7, 7, 3, 6, 16, 3, 4, 6, 3, 5, 9, 6, 4, 5, 6, 5, 6, 7, 6, 7, 3, 8, 9, 8, 3, 7, 7, 3, 9, 9, 5, 3, 4, 3, 5, 8, 4, 4, 4, 9, 5, 3, 7, 4, 6, 8, 3, 6, 4, 2, 12, 14, 3, 8, 3, 8, 6, 4, 4, 6, 6, 3, 6, 3, 4, 2, 9, 4, 3, 4, 8, 8, 3, 4, 4, 3, 4, 6, 10, 3, 8, 3, 7, 4, 7, 3, 5, 9, 3, 4, 5, 4, 7, 8, 6, 4, 7, 5, 6, 4, 3, 3, 5, 6, 7, 8, 8, 6, 3, 4, 8, 6, 3, 5, 3, 6, 10, 7, 4, 6, 6, 3, 3, 10, 3, 3, 4, 3, 7, 4, 3, 10, 3, 3, 9, 9, 3, 8, 6, 3, 5, 4, 7, 3, 5, 3, 6, 3, 6, 4, 3, 10, 3, 9, 9, 6, 3, 6, 4, 3, 7, 4, 3, 10, 4, 3, 6, 4, 6, 7, 5, 8, 9, 4, 4, 4, 7, 7, 4, 4, 5, 4, 3, 10, 6, 4, 5, 6, 6, 3, 7, 6, 4, 6, 3, 4, 3, 5, 4, 5, 9, 7, 4, 3, 6, 8, 4, 8, 4, 6, 7, 5, 5, 3, 4, 8, 10, 4, 7, 5, 4, 7, 3, 9, 7, 7, 7, 5, 4, 7, 6, 5, 4, 6, 5, 7]\n"
     ]
    }
   ],
   "source": [
    "def get_map(words):\n",
    "    length_map = list(map(lambda x: len(x),words))\n",
    "    return length_map\n",
    "\n",
    "file_name = input(\"Enter File Name\")\n",
    "\n",
    "if(len(file_name) < 1):\n",
    "    file_name = \"flowers.txt\"\n",
    "\n",
    "my_file = open(file_name)\n",
    "\n",
    "my_words = filter_long_words(my_file,2)\n",
    "\n",
    "print(get_map(my_words))\n"
   ]
  },
  {
   "cell_type": "markdown",
   "metadata": {},
   "source": [
    "#### Function which takes a character (i.e. a string of length 1) and returns True if it is a vowel, False otherwise"
   ]
  },
  {
   "cell_type": "code",
   "execution_count": 59,
   "metadata": {},
   "outputs": [
    {
     "name": "stdout",
     "output_type": "stream",
     "text": [
      "Enter a character: A\n",
      "True\n"
     ]
    }
   ],
   "source": [
    "def isVowel(a):\n",
    "    return (a == 'a' or a== 'e' or a == 'i' or a== 'o' or a== 'u')\n",
    "\n",
    "characterToCheck = input('Enter a character: ')\n",
    "if(len(characterToCheck) < 1 or len(characterToCheck)>1):\n",
    "    print(\"Invalid Input!\")\n",
    "\n",
    "\n",
    "print(isVowel(str(characterToCheck).lower()))"
   ]
  },
  {
   "cell_type": "code",
   "execution_count": null,
   "metadata": {},
   "outputs": [],
   "source": []
  }
 ],
 "metadata": {
  "kernelspec": {
   "display_name": "Python 3",
   "language": "python",
   "name": "python3"
  },
  "language_info": {
   "codemirror_mode": {
    "name": "ipython",
    "version": 3
   },
   "file_extension": ".py",
   "mimetype": "text/x-python",
   "name": "python",
   "nbconvert_exporter": "python",
   "pygments_lexer": "ipython3",
   "version": "3.8.5"
  }
 },
 "nbformat": 4,
 "nbformat_minor": 4
}
