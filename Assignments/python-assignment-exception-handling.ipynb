{
 "cells": [
  {
   "cell_type": "markdown",
   "metadata": {},
   "source": [
    "#### A function to compute 5/0 and use try/except to catch the exceptions"
   ]
  },
  {
   "cell_type": "code",
   "execution_count": 4,
   "metadata": {},
   "outputs": [
    {
     "name": "stdout",
     "output_type": "stream",
     "text": [
      "2.5\n",
      "Cannot be divided by 0\n",
      "(5, 0)\n"
     ]
    }
   ],
   "source": [
    "def compute(x,y):\n",
    "    try:\n",
    "        return float(x/y)\n",
    "    except:\n",
    "        print(\"Cannot be divided by 0\")\n",
    "        return (x,y)\n",
    "\n",
    "print(compute(5,2))\n",
    "print(compute(5,0))"
   ]
  },
  {
   "cell_type": "markdown",
   "metadata": {},
   "source": [
    "#### generate all sentences where subject is in [\"Americans\", \"Indians\"] and verb is in [\"Play\", \"watch\"] and the object is in [\"Baseball\",\"cricket\"]"
   ]
  },
  {
   "cell_type": "code",
   "execution_count": 11,
   "metadata": {},
   "outputs": [
    {
     "name": "stdout",
     "output_type": "stream",
     "text": [
      "Americans play Baseball.\n",
      "Americans play Cricket.\n",
      "Americans watch Baseball.\n",
      "Americans watch Cricket.\n",
      "Indians play Baseball.\n",
      "Indians play Cricket.\n",
      "Indians watch Baseball.\n",
      "Indians watch Cricket.\n"
     ]
    }
   ],
   "source": [
    "def create_sentences_using_three_lists(a,b,c):\n",
    "    results = [x+\" \"+y+\" \"+z+\".\" for x in a for y in b for z in c]\n",
    "    return results\n",
    "\n",
    "subjects = [\"Americans\", \"Indians\"]\n",
    "verbs =  [\"play\", \"watch\"]\n",
    "objects = [\"Baseball\",\"Cricket\"]\n",
    "\n",
    "print(\"\\n\".join(create_sentences_using_three_lists(subjects, verbs, objects)))\n"
   ]
  },
  {
   "cell_type": "code",
   "execution_count": null,
   "metadata": {},
   "outputs": [],
   "source": []
  },
  {
   "cell_type": "code",
   "execution_count": null,
   "metadata": {},
   "outputs": [],
   "source": []
  }
 ],
 "metadata": {
  "kernelspec": {
   "display_name": "Python 3",
   "language": "python",
   "name": "python3"
  },
  "language_info": {
   "codemirror_mode": {
    "name": "ipython",
    "version": 3
   },
   "file_extension": ".py",
   "mimetype": "text/x-python",
   "name": "python",
   "nbconvert_exporter": "python",
   "pygments_lexer": "ipython3",
   "version": "3.8.5"
  }
 },
 "nbformat": 4,
 "nbformat_minor": 4
}
