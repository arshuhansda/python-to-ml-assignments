{
 "cells": [
  {
   "cell_type": "markdown",
   "metadata": {},
   "source": [
    "#### Question 4:\n",
    "Write a program which accepts a sequence of comma-separated numbers from console and generate a list and a tuple which contains every number.Suppose the following input is supplied to the program:\n",
    "\n",
    "34,67,55,33,12,98\n",
    "Then, the output should be:\n",
    "\n",
    "['34', '67', '55', '33', '12', '98']\n",
    "('34', '67', '55', '33', '12', '98')"
   ]
  },
  {
   "cell_type": "code",
   "execution_count": 1,
   "metadata": {},
   "outputs": [
    {
     "name": "stdout",
     "output_type": "stream",
     "text": [
      "['34', '67', '55', '33', '12', '98']\n",
      "('34', '67', '55', '33', '12', '98')\n"
     ]
    }
   ],
   "source": [
    "#input_list = input()\n",
    "input_list = \"34,67,55,33,12,98\"\n",
    "\n",
    "l1 = input_list.split(\",\")\n",
    "l2 = tuple(l1)\n",
    "\n",
    "print(l1)\n",
    "print(l2)"
   ]
  },
  {
   "cell_type": "markdown",
   "metadata": {},
   "source": [
    "#### Question 5:\n",
    "Define a class which has at least two methods:\n",
    "\n",
    "getString: to get a string from console input\n",
    "printString: to print the string in upper case.\n",
    "Also please include simple test function to test the class methods.\n",
    "\n",
    "Hints:\n",
    "Use init method to construct some parameters"
   ]
  },
  {
   "cell_type": "code",
   "execution_count": 2,
   "metadata": {},
   "outputs": [
    {
     "name": "stdout",
     "output_type": "stream",
     "text": [
      "\n",
      "HELLO\n"
     ]
    }
   ],
   "source": [
    "class New_Class:\n",
    "    def __init__(self):\n",
    "        self.s = \"\"\n",
    "    def getString(self):\n",
    "        #self.s = input()\n",
    "        self.s = \"hello\"\n",
    "    def printString(self):\n",
    "        print(self.s.upper())\n",
    "    \n",
    "ex1 = New_Class()\n",
    "ex1.printString()\n",
    "ex1.getString()\n",
    "ex1.printString()\n",
    "    "
   ]
  },
  {
   "cell_type": "markdown",
   "metadata": {},
   "source": [
    "#### Question 6:\n",
    "Write a program that calculates and prints the value according to the given formula:\n",
    "\n",
    "Q = Square root of [(2 _ C _ D)/H]\n",
    "\n",
    "Following are the fixed values of C and H:\n",
    "\n",
    "C is 50. H is 30.\n",
    "\n",
    "D is the variable whose values should be input to your program in a comma-separated sequence.For example Let us assume the following comma separated input sequence is given to the program:\n",
    "\n",
    "100,150,180\n",
    "The output of the program should be:\n",
    "\n",
    "18,22,24\n",
    "\n",
    "#### Hints:\n",
    "If the output received is in decimal form, it should be rounded off to its nearest value (for example, if the output received is 26.0, it should be printed as 26).In case of input data being supplied to the question, it should be assumed to be a console input."
   ]
  },
  {
   "cell_type": "code",
   "execution_count": 16,
   "metadata": {},
   "outputs": [
    {
     "name": "stdout",
     "output_type": "stream",
     "text": [
      "18,22,24\n"
     ]
    }
   ],
   "source": [
    "from math import sqrt\n",
    "\n",
    "C = 50\n",
    "H = 30\n",
    "\n",
    "#D = input(\"Enter D:\")\n",
    "D = \"100,150,180\"\n",
    "\n",
    "Our_D = D.split(',')\n",
    "\n",
    "#print(Our_D)\n",
    "\n",
    "def get_Q(d):\n",
    "    return round(sqrt((2*C*d)/H))\n",
    "\n",
    "new_list = [str(get_Q(int(d))) for d in Our_D]\n",
    "\n",
    "print(\",\".join(new_list))"
   ]
  },
  {
   "cell_type": "code",
   "execution_count": null,
   "metadata": {},
   "outputs": [],
   "source": [
    "\n"
   ]
  },
  {
   "cell_type": "code",
   "execution_count": null,
   "metadata": {},
   "outputs": [],
   "source": []
  }
 ],
 "metadata": {
  "kernelspec": {
   "display_name": "Python 3",
   "language": "python",
   "name": "python3"
  },
  "language_info": {
   "codemirror_mode": {
    "name": "ipython",
    "version": 3
   },
   "file_extension": ".py",
   "mimetype": "text/x-python",
   "name": "python",
   "nbconvert_exporter": "python",
   "pygments_lexer": "ipython3",
   "version": "3.8.5"
  }
 },
 "nbformat": 4,
 "nbformat_minor": 4
}
