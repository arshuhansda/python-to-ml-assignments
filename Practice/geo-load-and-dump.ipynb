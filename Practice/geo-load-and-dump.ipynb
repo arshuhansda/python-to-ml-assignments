{
 "cells": [
  {
   "cell_type": "code",
   "execution_count": 7,
   "metadata": {},
   "outputs": [
    {
     "name": "stdout",
     "output_type": "stream",
     "text": [
      "\n",
      "Found in database  AGH University of Science and Technology\n",
      "\n",
      "Found in database  Academy of Fine Arts Warsaw Poland\n",
      "\n",
      "Found in database  American University in Cairo\n",
      "\n",
      "Found in database  Arizona State University\n",
      "\n",
      "Found in database  Athens Information Technology\n",
      "\n",
      "Retrieving http://py4e-data.dr-chuck.net/json?address=ISI+Kolkata&key=42\n",
      "Retrieved 2936 characters {    \"results\" : [  \n",
      "\n",
      "Retrieving http://py4e-data.dr-chuck.net/json?address=NIT+Jamshedpur&key=42\n",
      "Retrieved 2026 characters {    \"results\" : [  \n",
      "\n",
      "Retrieving http://py4e-data.dr-chuck.net/json?address=Capgemini+Mumbai&key=42\n",
      "Retrieved 2592 characters {    \"results\" : [  \n",
      "\n",
      "Found in database  BIT Mesra\n",
      "\n",
      "Found in database  Babcock University\n",
      "\n",
      "Found in database  Banaras Hindu University\n",
      "\n",
      "Found in database  Bangalore University\n",
      "\n",
      "Found in database  Baylor University\n",
      "\n",
      "Found in database  Beijing normal university\n",
      "\n",
      "Found in database  Belarusian State University\n",
      "\n",
      "Found in database  Belgrade University\n",
      "Run geodump.py to read the data from the database so you can vizualize it on a map.\n"
     ]
    }
   ],
   "source": [
    "import urllib.request, urllib.parse, urllib.error\n",
    "import http\n",
    "import sqlite3\n",
    "import json\n",
    "import time\n",
    "import ssl\n",
    "import sys\n",
    "\n",
    "api_key = False\n",
    "# If you have a Google Places API key, enter it here\n",
    "# api_key = 'AIzaSy___IDByT70'\n",
    "\n",
    "if api_key is False:\n",
    "    api_key = 42\n",
    "    serviceurl = \"http://py4e-data.dr-chuck.net/json?\"\n",
    "else :\n",
    "    serviceurl = \"https://maps.googleapis.com/maps/api/geocode/json?\"\n",
    "\n",
    "# Additional detail for urllib\n",
    "# http.client.HTTPConnection.debuglevel = 1\n",
    "\n",
    "conn = sqlite3.connect('geodata.sqlite')\n",
    "cur = conn.cursor()\n",
    "\n",
    "cur.execute('''\n",
    "CREATE TABLE IF NOT EXISTS Locations (address TEXT, geodata TEXT)''')\n",
    "\n",
    "# Ignore SSL certificate errors\n",
    "ctx = ssl.create_default_context()\n",
    "ctx.check_hostname = False\n",
    "ctx.verify_mode = ssl.CERT_NONE\n",
    "\n",
    "fh = open(\"where.data\")\n",
    "count = 0\n",
    "for line in fh:\n",
    "    if count > 200 :\n",
    "        print('Retrieved 200 locations, restart to retrieve more')\n",
    "        break\n",
    "\n",
    "    address = line.strip()\n",
    "    print('')\n",
    "    cur.execute(\"SELECT geodata FROM Locations WHERE address= ?\",\n",
    "        (memoryview(address.encode()), ))\n",
    "\n",
    "    try:\n",
    "        data = cur.fetchone()[0]\n",
    "        print(\"Found in database \",address)\n",
    "        continue\n",
    "    except:\n",
    "        pass\n",
    "\n",
    "    parms = dict()\n",
    "    parms[\"address\"] = address\n",
    "    if api_key is not False: parms['key'] = api_key\n",
    "    url = serviceurl + urllib.parse.urlencode(parms)\n",
    "\n",
    "    print('Retrieving', url)\n",
    "    uh = urllib.request.urlopen(url, context=ctx)\n",
    "    data = uh.read().decode()\n",
    "    print('Retrieved', len(data), 'characters', data[:20].replace('\\n', ' '))\n",
    "    count = count + 1\n",
    "\n",
    "    try:\n",
    "        js = json.loads(data)\n",
    "    except:\n",
    "        print(data)  # We print in case unicode causes an error\n",
    "        continue\n",
    "\n",
    "    if 'status' not in js or (js['status'] != 'OK' and js['status'] != 'ZERO_RESULTS') :\n",
    "        print('==== Failure To Retrieve ====')\n",
    "        print(data)\n",
    "        break\n",
    "\n",
    "    cur.execute('''INSERT INTO Locations (address, geodata)\n",
    "            VALUES ( ?, ? )''', (memoryview(address.encode()), memoryview(data.encode()) ) )\n",
    "    conn.commit()\n",
    "    if count % 10 == 0 :\n",
    "        print('Pausing for a bit...')\n",
    "        time.sleep(5)\n",
    "\n",
    "print(\"Run geodump.py to read the data from the database so you can vizualize it on a map.\")"
   ]
  },
  {
   "cell_type": "code",
   "execution_count": 8,
   "metadata": {},
   "outputs": [
    {
     "name": "stdout",
     "output_type": "stream",
     "text": [
      "aleja Adama Mickiewicza 30, 30-059 Kraków, Poland 50.06688579999999 19.9136192\n",
      "Krakowskie Przedmieście 5, 00-068 Warszawa, Poland 52.2394019 21.0150792\n",
      "AUC Avenue، Road، First New Cairo, Cairo Governorate 11835, Egypt 30.0189275 31.499707\n",
      "Phoenix, AZ 85004, USA 33.4532165 -112.0719833\n",
      "Athens, OH 45701, USA 39.3301047 -82.1076022\n",
      "Vidya Vihar, Pilani, Rajasthan 333031, India 28.3588163 75.58802039999999\n",
      "Ilishan-Remo, Nigeria 6.8939569 3.7187158\n",
      "Ajagara, Varanasi, Uttar Pradesh 221005, India 25.2677203 82.99125819999999\n",
      "Mysore Rd, Jnana Bharathi, Bengaluru, Karnataka 560056, India 12.9503878 77.5022224\n",
      "1311 S 5th St, Waco, TX 76706, USA 31.5488923 -97.1130573\n",
      "19 Xinjiekou Outer St, Bei Tai Ping Zhuang, Haidian Qu, Beijing Shi, China, 100875 39.9619537 116.3662615\n",
      "praspiekt Niezaliežnasci 4, Minsk, Belarus 53.8938988 27.5460609\n",
      "Studentski trg 1, Beograd, Serbia 44.8184518 20.4575913\n",
      "700 College St, Beloit, WI 53511, USA 42.5030333 -89.0309048\n",
      "praspiekt Niezaliežnasci 4, Minsk, Belarus 53.8938988 27.5460609\n",
      "1000 Finch Ave W, North York, ON M3J 2V5, Canada 43.76908419999999 -79.4692584\n",
      "Palkalaiperur, Tiruchirappalli, Tamil Nadu 620024, India 10.6779085 78.74454879999999\n",
      "Boston, MA 02215, USA 42.3504997 -71.1053991\n",
      "San Luis Obispo, CA 93407, USA 35.3050053 -120.6624942\n",
      "5500 University Pkwy, San Bernardino, CA 92407, USA 34.1813584 -117.3231875\n",
      "25 Paddington Green, London W2 1NB, UK 51.5210038 -0.1746353\n",
      "New York, NY 10027, USA 40.8075355 -73.9625727\n",
      "College Rd, Cranfield, Wharley End, Bedford MK43 0AL, UK 52.0746136 -0.6282833\n",
      "166 36 Prague 6, Czechia 50.1030364 14.3912841\n",
      "Hanover, NH 03755, USA 43.7044406 -72.2886935\n",
      "21250 Stevens Creek Blvd, Cupertino, CA 95014, USA 37.3206678 -122.0454878\n",
      "Universitätsstraße 11, 58097 Hagen, Germany 51.377114 7.494838999999999\n",
      "Haharina Ave, 72, Dnipropetrovsk, Dnipropetrovska oblast, Ukraine, 49000 48.4331922 35.0427966\n",
      "No: 144 35210, Alsancak, Cumhuriyet Blv, 35220 Konak/İzmir, Turkey 38.430691 27.13692\n",
      "3141 Chestnut St, Philadelphia, PA 19104, USA 39.9566127 -75.18994409999999\n",
      "Austin, TX 78712, USA 30.2849185 -97.7340567\n",
      "Durham, NC 27708, USA 36.0014258 -78.9382286\n",
      "23 Avenue Guy de Collongue, 69130 Écully, France 45.7864448 4.7641329\n",
      "CentraleSupélec, 3 Rue Joliot Curie, 91190 Gif-sur-Yvette, France 48.709562 2.1662264\n",
      "50 Campus Drive, Elon, NC 27244, USA 36.1026877 -79.5023313\n",
      "Spangsbjerg Kirkevej 103, 6700 Esbjerg, Denmark 55.4877012 8.4469108\n",
      "Vía Perimetral 5, Guayaquil, Ecuador -2.1481458 -79.9644885\n",
      "Münsterstraße 156, 40476 Düsseldorf, Germany 51.2466607 6.791998\n",
      "Urstein Süd 1, 5412 Puch bei Hallein, Austria 47.7233835 13.0871253\n",
      "Av. Pereira Barreto, 400 - Vila Baeta Neves - Centro, São Bernardo do Campo - SP, 09751-000, Brazil -23.6956191 -46.5469041\n",
      "Trg Dositeja Obradovića 6, Novi Sad 106314, Serbia 45.2461012 19.8516968\n",
      "2350 NY-110, Farmingdale, NY 11735, USA 40.7529512 -73.4267093\n",
      "Av. Pres. Antônio Carlos, 6627 - Pampulha, Belo Horizonte - MG, 31270-901, Brazil -19.870682 -43.9677359\n",
      "777 Glades Rd, Boca Raton, FL 33431, USA 26.3749876 -80.10106329999999\n",
      "40 University Dr, Rindge, NH 03461, USA 42.7789743 -72.05553929999999\n",
      "Jalukbari, Guwahati, Assam 781014, India 26.1543199 91.66316789999999\n",
      "4400 University Dr, Fairfax, VA 22030, USA 38.8298118 -77.3073606\n",
      "600 New Jersey Ave NW, Washington, DC 20001, USA 38.8977953 -77.0129087\n",
      "Atlanta, GA 30302, USA 33.753068 -84.38528190000001\n",
      "Grandville, MI, USA 42.9097484 -85.7630885\n",
      "Andreas Vesaliusstraat 13, 3000 Leuven, Belgium 50.8748634 4.7075072\n",
      "1 Đại Cồ Việt, Bách Khoa, Hai Bà Trưng, Hà Nội, Vietnam 21.005603 105.8434525\n",
      "Jerusalem 31.7945578 35.2414009\n",
      "Professor CR Rao Rd, Gachibowli, Hyderabad, Telangana 500032, India 17.4448649 78.34981379999999\n",
      "Kalyanpur, Kanpur, Uttar Pradesh 208016, India 26.5123388 80.2329\n",
      "Raja 4, 12616 Tallinn, Estonia 59.3954004 24.6641777\n",
      "107 S Indiana Ave, Bloomington, IN 47405, USA 39.1754487 -86.512627\n",
      "Santa Croce, 191, 30135 Venezia VE, Italy 45.4377574 12.3223297\n",
      "10 W 35th St, Chicago, IL 60616, USA 41.8348731 -87.6270059\n",
      "1215 Houbolt Rd, Joliet, IL 60431, USA 41.5016139 -88.18098260000001\n",
      "Indian Institute of Technology, Palaj, Gujarat 382355, India 23.2114604 72.6841857\n",
      "Kharagpur, West Bengal 721302, India 22.3149274 87.31053109999999\n",
      "Police Line Road, Main Campus IIT (ISM, IIT (ISM, Hirapur, Sardar Patel Nagar, Dhanbad, Jharkhand 826004, India 23.8142953 86.44118069999999\n",
      "107 S Indiana Ave, Bloomington, IN 47405, USA 39.1754487 -86.512627\n",
      "107 S Indiana Ave, Bloomington, IN 47405, USA 39.1754487 -86.512627\n",
      "1100 Rue Notre-Dame Ouest, Montréal, QC H3C 1K3, Canada 45.4948236 -73.5623366\n",
      "Av. de Los Próceres 49, Santo Domingo 10602, Dominican Republic 18.4880037 -69.96249499999999\n",
      "Professor CR Rao Rd, Gachibowli, Hyderabad, Telangana 500032, India 17.4448649 78.34981379999999\n",
      "Karl Marx St, 1, Irkutsk, Irkutskaya oblast, Russia, 664003 52.2766643 104.2777445\n",
      "1, 12, CIT Rd, Bidhannagar, Kolkata, West Bengal 700054, India 22.5811617 88.3905995\n",
      "Ashok Nagar, Kukatpally Housing Board Colony, Kukatpally, Hyderabad, Telangana 500085, India 17.4932682 78.3913929\n",
      "New Mehrauli Road, JNU Ring Rd, New Delhi, Delhi 110067, India 28.5402232 77.1662154\n",
      "Ar Ramtha 3030، Ar-Ramtha, Jordan 32.4950392 35.9912257\n",
      "Manhattan, KS 66506, USA 39.1974437 -96.5847249\n",
      "Kuala Lumpur, Federal Territory of Kuala Lumpur, Malaysia 3.139003 101.686855\n",
      "1200 Academy St, Kalamazoo, MI 49006, USA 42.290035 -85.598145\n",
      "K. Donelaičio g. 73, Kaunas 44249, Lithuania 54.898991 23.912825\n",
      "K. Donelaičio g. 73, Kaunas 44249, Lithuania 54.898991 23.912825\n",
      "Kremlyovskaya St, 18, Kazan, Respublika Tatarstan, Russia, 420008 55.790447 49.1214349\n",
      "800 E Summit St, Kent, OH 44240, USA 41.1455594 -81.33928829999999\n",
      "Marshala Bazhanova St, 17, Kharkiv, Kharkivska oblast, Ukraine, 61000 49.9958165 36.241777\n",
      "126 Pracha Uthit Rd, Khwaeng Bang Mot, Khet Thung Khru, Krung Thep Maha Nakhon 10140, Thailand 13.65117 100.4966439\n",
      "Kokshetau 020000, Kazakhstan 53.285023 69.3695728\n",
      "Peremohy Ave, 37, Kyiv, Ukraine, 03056 50.4491699 30.4561487\n",
      "Peremohy Ave, 37, Kyiv, Ukraine, 03056 50.4491699 30.4561487\n",
      "Volodymyrska St, 60, Kyiv, Ukraine, 01033 50.4420868 30.5104023\n",
      "Willet Green Miller Centre, 935 Ramsey Lake Rd, Greater Sudbury, ON P3E 2C6, Canada 46.4631487 -80.9704367\n",
      "Stefana Żeromskiego 116, 90-924 Łódź, Poland 51.7537146 19.4517176\n",
      "Universytetska St, 1, Lviv, Lvivska oblast, Ukraine, 79000 49.8406108 24.0225099\n",
      "Michigan, USA 42.701848 -84.4821719\n",
      "Navalar Nagar, Chepauk, Triplicane, Chennai, Tamil Nadu 600005, India 13.0660293 80.28317190000001\n",
      "Prospekt Lenina, 38, Magnitogorsk, Chelyabinskaya oblast, Russia, 455000 53.4222397 58.9824868\n",
      "Hamadan Province, Malayer, University Blvd, Iran 34.304073 48.8452846\n",
      "215 5th St, Marietta, OH 45750, USA 39.4164811 -81.4498947\n",
      "77 Massachusetts Ave, Cambridge, MA 02139, USA 42.360091 -71.09416\n",
      "Studentski trg 16, Beograd 105104, Serbia 44.8199188 20.4587075\n",
      "Michigan, USA 42.701848 -84.4821719\n",
      "Üniversiteler, Dumlupinar Bulvari 1/6-133, 06800 Çankaya/Ankara, Turkey 39.88983820000001 32.780086\n",
      "106, Parker Hall, 300 W 13th St, Rolla, MO 65409, USA 37.9537078 -91.7756271\n",
      "Wellington Rd, Clayton VIC 3800, Australia -37.9105599 145.1362485\n",
      "Wellington Rd, Clayton VIC 3800, Australia -37.9105599 145.1362485\n",
      "Northways Rd, Churchill VIC 3842, Australia -38.311211 146.429409\n",
      "Av. Eugenio Garza Sada 2501 Sur, Tecnológico, 64849 Monterrey, N.L., Mexico 25.6515649 -100.28954\n",
      "Kashira Hwy, 31, Moskva, Russia, 115409 55.6502051 37.6643098\n",
      "Institutskiy Pereulok, 9, Dolgoprudny, Moskovskaya oblast, Russia, 141701 55.9297243 37.5199434\n",
      "Ulitsa Kolmogorova, 1, Moskva, Russia, 119991 55.70393490000001 37.5286696\n",
      "jindal colony, Bisra Rd, National Institute of Technology, Udit Nagar, Rourkela, Odisha 769001, India 22.2533781 84.9012363\n",
      "New York, NY 10003, USA 40.72951339999999 -73.9964609\n",
      "Amravati Rd, Ram Nagar, Nagpur, Maharashtra 440033, India 21.1468555 79.050062\n",
      "50 Nanyang Ave, Singapore 639798 1.3483099 103.6831347\n",
      "Gopalpur Alias Bidh, Punjab 144011, India 31.3962376 75.53122619999999\n",
      "No. 1, Section 4, Roosevelt Rd, Da’an District, Taipei City, Taiwan 10617 25.0173405 121.5397518\n",
      "Av. Tupac Amaru 210, Cercado de Lima 15333, Peru -12.0231787 -77.04763009999999\n",
      "30 N Brainard St, Naperville, IL 60540, USA 41.772663 -88.1440142\n",
      "360 Huntington Ave, Boston, MA 02115, USA 42.3398067 -71.0891717\n",
      "633 Clark St, Evanston, IL 60208, USA 42.0564594 -87.67526699999999\n",
      "Студенческий городок, 1, Obninsk, Kaluzhskaya oblast, Russia, 249034 55.1372019 36.6064735\n",
      "5115 Hampton Blvd, Norfolk, VA 23529, USA 36.8858594 -76.3057051\n",
      "3201 Campus Dr, Klamath Falls, OR 97601, USA 42.2573474 -121.7849109\n",
      "Autopista Duarte Km 1 1/2, Santiago De Los Caballeros 51000, Dominican Republic 19.4436005 -70.6843785\n",
      "Tehran Province, Tehran, اتوبان ارتش کوی نفت, Nakhl St, Iran 35.8012314 51.5028533\n",
      "State College, PA 16801, USA 40.7982133 -77.8599084\n",
      "Piazza Leonardo da Vinci, 32, 20133 Milano MI, Italy 45.4784315 9.228342399999999\n",
      "Splaiul Independenței 313, București 060042, Romania 44.4386064 26.0494925\n",
      "Piața Victoriei 2, Timișoara 300006, Romania 45.7536393 21.2251615\n",
      "Pondicherry University, Chinna Kalapet, Kalapet, Puducherry 605014, India 12.0182619 79.8568461\n",
      "Av Libertador Bernardo OHiggins 340, Santiago, Región Metropolitana, Chile -33.44180680000001 -70.6399544\n",
      "1825 SW Broadway, Portland, OR 97201, USA 45.5111471 -122.6834235\n",
      "420 University Blvd, Indianapolis, IN 46202, USA 39.7743174 -86.1764194\n",
      "Mysore Rd, RV Vidyaniketan, Post, Bengaluru, Karnataka 560059, India 12.9237228 77.4987012\n",
      "110 8th St, Troy, NY 12180, USA 42.7297628 -73.67888839999999\n",
      "505 Ramapo Valley Rd, Mahwah, NJ 07430, USA 41.0819323 -74.1758157\n",
      "1 Lomb Memorial Dr, Rochester, NY 14623, USA 43.0844955 -77.6749311\n",
      "Trichy-Tanjore Road, Thirumalaisamudram, Thanjavur, Tamil Nadu 613401, India 10.7285131 79.0184111\n",
      "University Embankment, 7/9, Sankt-Peterburg, Russia, 199034 59.941894 30.2989199\n",
      "Bolshaya Morskaya Ulitsa, 67, Sankt-Peterburg, Russia, 190000 59.929491 30.2966081\n",
      "Politekhnicheskaya Ulitsa, 29, Sankt-Peterburg, Russia, 195251 60.0076235 30.3731954\n",
      "1600 Holloway Ave, San Francisco, CA 94132, USA 37.7241492 -122.4799405\n",
      "1 Washington Sq, San Jose, CA 95192, USA 37.3351874 -121.8810715\n",
      "China, Shanghai Shi, Minhang Qu, 东川路 邮政编码: 200240 31.0252201 121.4337784\n",
      "Tehran, خیابان آزادی، تهران بزرگ،، Iran 35.703605 51.35153099999999\n",
      "Sartenejas, Caracas, Miranda, Venezuela 10.408363 -66.8755735\n",
      "8888 University Dr, Burnaby, BC V5A 1S6, Canada 49.2780937 -122.9198833\n",
      "Ulitsa Przhevalskogo, 4, Smolensk, Smolenskaya oblast, Russia, 214000 54.7845032 32.0452469\n",
      "1801 E Cotati Ave, Rohnert Park, CA 94928, USA 38.3395854 -122.6743811\n",
      "103 Hillcrest Rd, Mobile, AL 36608, USA 30.688114 -88.19016219999999\n",
      "Strada Ion Ghica 13, București 030045, Romania 44.4332166 26.1009718\n",
      "450 Serra Mall, Stanford, CA 94305, USA 37.4274745 -122.169719\n",
      "Cidade Universitária Zeferino Vaz - Barão Geraldo, Campinas - SP, 13083-970, Brazil -22.8184393 -47.0647206\n",
      "7060 NY-104, Oswego, NY 13126, USA 43.45139280000001 -76.5425285\n",
      "Stellenbosch Central, Stellenbosch, South Africa -33.9328078 18.864447\n",
      "320 Washington St, North Easton, MA 02357, USA 42.058162 -71.08080029999999\n",
      "Narva maantee 25, 10120 Tallinn, Estonia 59.4387321 24.7713836\n",
      "Ehitajate tee 5, 12616 Tallinn, Estonia 59.3959451 24.6710596\n",
      "Korkeakoulunkatu 7 Kampusareena, 33720 Tampere, Finland 61.4498286 23.8589986\n",
      "El-Gaish, Tanta Qism 2, Tanta, Gharbia Governorate, Egypt 30.7924391 30.9991409\n",
      "1500 Houston St, Fort Worth, TX 76102, USA 32.7474661 -97.3278753\n",
      "Strada Memorandumului 28, Cluj-Napoca 400114, Romania 46.769299 23.585613\n",
      "970 Lawrence Ave W suite 206, North York, ON M6A 3B6, Canada 43.7137099 -79.4583712\n",
      "Tel Aviv-Yafo, Israel 32.1133141 34.8043877\n",
      "Velachery Main Rd, Narayanapuram, Pallikaranai, Chennai, Tamil Nadu 600100, India 12.9452892 80.207843\n",
      "Raiņa bulvāris 19, Centra rajons, Rīga, LV-1586, Latvia 56.95080979999999 24.1163132\n",
      "Oxford Rd, Manchester M13 9PL, UK 53.4668498 -2.2338837\n",
      "Preller St, Muckleneuk, Pretoria, 0002, South Africa -25.7676604 28.1992624\n",
      "300 N Broadway, Lexington, KY 40508, USA 38.0516801 -84.49334189999999\n",
      "419 Boston Ave, Medford, MA 02155, USA 42.4085371 -71.1182729\n",
      "Berkeley, CA, USA 37.8718992 -122.2585399\n",
      "Los Angeles, CA 90095, USA 34.068921 -118.4451811\n",
      "9500 Gilman Dr, La Jolla, CA 92093, USA 32.8800604 -117.2340135\n",
      "Champaign, IL, USA 40.1019523 -88.2271615\n",
      "3412 England Dr, Alexandria, LA 71303, USA 31.32576 -92.49024\n",
      "7400 E Arapahoe Rd # 10, Centennial, CO 80112, USA 39.5944197 -104.9024568\n",
      "Viamonte 430, C1053 CABA, Argentina -34.5998875 -58.37306949999999\n",
      "15251 Alton Pkwy, Irvine, CA 92618, USA 33.6500712 -117.7329819\n",
      "Walker W St, Wichita, KS 67213, USA 37.6691785 -97.3860243\n",
      "Madison, WI, USA 43.076592 -89.4124875\n",
      "Caracas, Capital District, Venezuela 10.4883502 -66.8891696\n",
      "Av. Séneca, 2, 28040 Madrid, Spain 40.4454368 -3.7299424\n",
      "Calle 30, Santa Marta, Magdalena, Colombia 11.2234838 -74.1708905\n",
      "University City, Coyoacán, 04510 Mexico City, CDMX, Mexico 19.3228313 -99.18657739999999\n",
      "Avenida 1, Calle 9 Heredia 86, Heredia, 3000, Costa Rica 9.9986898 -84.11118979999999\n",
      "Cra 45, Bogotá, Colombia 4.6381938 -74.08404639999999\n",
      "Calle Colombia 154, La Paz, Bolivia -16.500656 -68.134299\n",
      "Viamonte 430, C1053 CABA, Argentina -34.5998875 -58.37306949999999\n",
      "Rectorado UCLM, Calle Altagracia, 50, 13001 Ciudad Real, Cdad. Real, Spain 38.9934998 -3.9254365\n",
      "Cra. 1 #18a-12, Bogotá, Cundinamarca, Colombia 4.601458099999999 -74.0661334\n",
      "Universidad de Oriente, Avenida 21 Oriente 1816, Zona Sin Asignación de Nombre de Col 39, Azcarate, 72501 Puebla, Pue., Mexico 19.0303925 -98.1903494\n",
      "11 Av, Cdad. de Guatemala 01012, Guatemala 14.5873005 -90.55336129999999\n",
      "C/Plaza de Santa Cruz, 8, 47002 Valladolid, Spain 41.6569271 -4.7140547\n",
      "Chía, Cundinamarca, Colombia 4.8615787 -74.0325368\n",
      "18 Avenida 11-95 Guatemala, Cdad. de Guatemala 01015, Guatemala 14.603762 -90.48924799999999\n",
      "Campus I - Lot. Cidade Universitaria, João Pessoa - PB, 58051-900, Brazil -7.1377579 -34.8458995\n",
      "R. Eng. Agronômico Andrei Cristian Ferreira, s/n - Trindade, Florianópolis - SC, 88040-900, Brazil -27.5999666 -48.5194152\n",
      "Av. Paulo Gama, 110 Secretaria de Comunicação Social - 8º andar - Reitoria - Farroupilha, Porto Alegre - RS, 90040-060, Brazil -30.0332408 -51.2207273\n"
     ]
    },
    {
     "name": "stdout",
     "output_type": "stream",
     "text": [
      "Avenida Pedro Calmon, 550 Reitoria - Cidade Universitária da Universidade Federal do Rio de Janeiro, Rio de Janeiro - RJ, 21941-901, Brazil -22.8625345 -43.2234737\n",
      "Av. Rovisco Pais 1, 1049-001 Lisboa, Portugal 38.7368192 -9.138705\n",
      "Butanta, São Paulo - State of São Paulo, Brazil -23.5613991 -46.7307891\n",
      "R. da Universidade, 4710-057 Braga, Portugal 41.5607319 -8.3962368\n",
      "Bulaksumur, Caturtunggal, Kec. Depok, Kabupaten Sleman, Daerah Istimewa Yogyakarta 55281, Indonesia -7.7713847 110.3774998\n",
      "Kolkata, West Bengal, India 22.572646 88.36389500000001\n",
      "Jamshedpur, Jharkhand, India 22.8045665 86.2028754\n",
      "Mumbai, Maharashtra, India 19.0759837 72.8776559\n",
      "Mesra, Jharkhand 835215, India 23.412305 85.43990099999999\n",
      "Plot No, 203, Barrackpore Trunk Rd, Dunlop, Bonhooghly Government Colony, Baranagar, Kolkata, West Bengal 700108, India 22.648777 88.377011\n",
      "Adityapur, Jamshedpur, Jharkhand 831014, India 22.7770174 86.144116\n",
      "M6, Capgemini Knowledge Park, Off, Thane - Belapur Rd, TTC Industrial Area, Airoli, Navi Mumbai, Maharashtra 400708, India 19.1788343 72.99036010000002\n",
      "206 records written to where.js\n",
      "Open where.html to view the data in a browser\n"
     ]
    }
   ],
   "source": [
    "import sqlite3\n",
    "import json\n",
    "import codecs\n",
    "\n",
    "conn = sqlite3.connect('geodata.sqlite')\n",
    "cur = conn.cursor()\n",
    "\n",
    "cur.execute('SELECT * FROM Locations')\n",
    "fhand = codecs.open('where.js', 'w', \"utf-8\")\n",
    "fhand.write(\"myData = [\\n\")\n",
    "count = 0\n",
    "for row in cur :\n",
    "    data = str(row[1].decode())\n",
    "    try: js = json.loads(str(data))\n",
    "    except: continue\n",
    "\n",
    "    if not('status' in js and js['status'] == 'OK') : continue\n",
    "\n",
    "    lat = js[\"results\"][0][\"geometry\"][\"location\"][\"lat\"]\n",
    "    lng = js[\"results\"][0][\"geometry\"][\"location\"][\"lng\"]\n",
    "    if lat == 0 or lng == 0 : continue\n",
    "    where = js['results'][0]['formatted_address']\n",
    "    where = where.replace(\"'\", \"\")\n",
    "    try :\n",
    "        print(where, lat, lng)\n",
    "\n",
    "        count = count + 1\n",
    "        if count > 1 : fhand.write(\",\\n\")\n",
    "        output = \"[\"+str(lat)+\",\"+str(lng)+\", '\"+where+\"']\"\n",
    "        fhand.write(output)\n",
    "    except:\n",
    "        continue\n",
    "\n",
    "fhand.write(\"\\n];\\n\")\n",
    "cur.close()\n",
    "fhand.close()\n",
    "print(count, \"records written to where.js\")\n",
    "print(\"Open where.html to view the data in a browser\")\n"
   ]
  },
  {
   "cell_type": "code",
   "execution_count": 9,
   "metadata": {},
   "outputs": [
    {
     "data": {
      "text/plain": [
       "71"
      ]
     },
     "execution_count": 9,
     "metadata": {},
     "output_type": "execute_result"
    }
   ],
   "source": [
    "ord('G')"
   ]
  },
  {
   "cell_type": "code",
   "execution_count": 11,
   "metadata": {},
   "outputs": [
    {
     "data": {
      "text/plain": [
       "'l'"
      ]
     },
     "execution_count": 11,
     "metadata": {},
     "output_type": "execute_result"
    }
   ],
   "source": [
    "chr(108)"
   ]
  },
  {
   "cell_type": "code",
   "execution_count": 12,
   "metadata": {},
   "outputs": [
    {
     "data": {
      "text/plain": [
       "'i'"
      ]
     },
     "execution_count": 12,
     "metadata": {},
     "output_type": "execute_result"
    }
   ],
   "source": [
    "chr(105)"
   ]
  },
  {
   "cell_type": "code",
   "execution_count": 13,
   "metadata": {},
   "outputs": [
    {
     "data": {
      "text/plain": [
       "'s'"
      ]
     },
     "execution_count": 13,
     "metadata": {},
     "output_type": "execute_result"
    }
   ],
   "source": [
    "chr(115)"
   ]
  },
  {
   "cell_type": "code",
   "execution_count": 14,
   "metadata": {},
   "outputs": [
    {
     "data": {
      "text/plain": [
       "'t'"
      ]
     },
     "execution_count": 14,
     "metadata": {},
     "output_type": "execute_result"
    }
   ],
   "source": [
    "chr(116)"
   ]
  },
  {
   "cell_type": "code",
   "execution_count": 15,
   "metadata": {},
   "outputs": [
    {
     "name": "stdout",
     "output_type": "stream",
     "text": [
      "o\n"
     ]
    }
   ],
   "source": [
    "zap = \"hello there bob\"\n",
    "print(zap[4])"
   ]
  },
  {
   "cell_type": "code",
   "execution_count": 16,
   "metadata": {},
   "outputs": [
    {
     "ename": "IndentationError",
     "evalue": "expected an indented block (<ipython-input-16-adfc3d2d2a4c>, line 3)",
     "output_type": "error",
     "traceback": [
      "\u001b[1;36m  File \u001b[1;32m\"<ipython-input-16-adfc3d2d2a4c>\"\u001b[1;36m, line \u001b[1;32m3\u001b[0m\n\u001b[1;33m    print(\"smaller\")\u001b[0m\n\u001b[1;37m    ^\u001b[0m\n\u001b[1;31mIndentationError\u001b[0m\u001b[1;31m:\u001b[0m expected an indented block\n"
     ]
    }
   ],
   "source": [
    "x = 12\n",
    "if x < 5:\n",
    "print(\"smaller\")\n",
    "else:\n",
    "    print(\"bigger\")\n",
    "print(\"all done\")"
   ]
  },
  {
   "cell_type": "code",
   "execution_count": 17,
   "metadata": {},
   "outputs": [
    {
     "name": "stdout",
     "output_type": "stream",
     "text": [
      "10\n"
     ]
    }
   ],
   "source": [
    "total = 0\n",
    "for abc in range(5):\n",
    "    total = total + abc\n",
    "print(total)\n"
   ]
  },
  {
   "cell_type": "code",
   "execution_count": 18,
   "metadata": {},
   "outputs": [
    {
     "ename": "TypeError",
     "evalue": "can only concatenate str (not \"int\") to str",
     "output_type": "error",
     "traceback": [
      "\u001b[1;31m---------------------------------------------------------------------------\u001b[0m",
      "\u001b[1;31mTypeError\u001b[0m                                 Traceback (most recent call last)",
      "\u001b[1;32m<ipython-input-18-833eb22d1061>\u001b[0m in \u001b[0;36m<module>\u001b[1;34m\u001b[0m\n\u001b[0;32m      1\u001b[0m \u001b[0ma\u001b[0m \u001b[1;33m=\u001b[0m \u001b[1;34m\"123\"\u001b[0m\u001b[1;33m\u001b[0m\u001b[1;33m\u001b[0m\u001b[0m\n\u001b[0;32m      2\u001b[0m \u001b[0mb\u001b[0m \u001b[1;33m=\u001b[0m \u001b[1;36m456\u001b[0m\u001b[1;33m\u001b[0m\u001b[1;33m\u001b[0m\u001b[0m\n\u001b[1;32m----> 3\u001b[1;33m \u001b[0mc\u001b[0m \u001b[1;33m=\u001b[0m \u001b[0ma\u001b[0m \u001b[1;33m+\u001b[0m \u001b[0mb\u001b[0m\u001b[1;33m\u001b[0m\u001b[1;33m\u001b[0m\u001b[0m\n\u001b[0m\u001b[0;32m      4\u001b[0m \u001b[0mprint\u001b[0m\u001b[1;33m(\u001b[0m\u001b[0mc\u001b[0m\u001b[1;33m)\u001b[0m\u001b[1;33m\u001b[0m\u001b[1;33m\u001b[0m\u001b[0m\n",
      "\u001b[1;31mTypeError\u001b[0m: can only concatenate str (not \"int\") to str"
     ]
    }
   ],
   "source": [
    "a = \"123\"\n",
    "b = 456\n",
    "c = a + b\n",
    "print(c)"
   ]
  },
  {
   "cell_type": "code",
   "execution_count": 19,
   "metadata": {},
   "outputs": [
    {
     "name": "stdout",
     "output_type": "stream",
     "text": [
      "['With', 'three', 'words']\n"
     ]
    }
   ],
   "source": [
    "abc = \"With three words\"\n",
    "stuff = abc.split()\n",
    "print(stuff)"
   ]
  },
  {
   "cell_type": "code",
   "execution_count": null,
   "metadata": {},
   "outputs": [],
   "source": []
  }
 ],
 "metadata": {
  "kernelspec": {
   "display_name": "Python 3",
   "language": "python",
   "name": "python3"
  },
  "language_info": {
   "codemirror_mode": {
    "name": "ipython",
    "version": 3
   },
   "file_extension": ".py",
   "mimetype": "text/x-python",
   "name": "python",
   "nbconvert_exporter": "python",
   "pygments_lexer": "ipython3",
   "version": "3.8.5"
  }
 },
 "nbformat": 4,
 "nbformat_minor": 4
}
